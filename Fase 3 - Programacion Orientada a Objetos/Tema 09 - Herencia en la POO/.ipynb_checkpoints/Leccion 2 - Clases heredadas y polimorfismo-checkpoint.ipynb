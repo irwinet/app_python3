{
 "cells": [
  {
   "cell_type": "code",
   "execution_count": 1,
   "metadata": {},
   "outputs": [],
   "source": [
    "class Producto:\n",
    "    def __init__(self,referencia,nombre,pvp,descripcion):\n",
    "        self.referencia = referencia\n",
    "        self.nombre = nombre\n",
    "        self.pvp = pvp\n",
    "        self.descripcion = descripcion\n",
    "        \n",
    "    def __str__(self):\n",
    "        return \"\"\"\\\n",
    "REFERENCIA\\t{}\n",
    "NOMBRE\\t\\t{}\n",
    "PVP\\t\\t{}\n",
    "DESCRIPCIÓN\\t{}\"\"\".format(self.referencia,self.nombre,self.pvp,self.descripcion)\n",
    "    \n",
    "\n",
    "class Adorno(Producto):\n",
    "    pass\n",
    "\n",
    "\n",
    "class Alimento(Producto):\n",
    "    productor = \"\"\n",
    "    distribuidor = \"\"\n",
    "    \n",
    "    def __str__(self):\n",
    "        return \"\"\"\\\n",
    "REFERENCIA\\t{}\n",
    "NOMBRE\\t\\t{}\n",
    "PVP\\t\\t{}\n",
    "DESCRIPCIÓN\\t{}\n",
    "PRODUCTOR\\t{}\n",
    "DISTRIBUIDOR\\t{}\"\"\".format(self.referencia,self.nombre,self.pvp,self.descripcion,self.productor,self.distribuidor)\n",
    "\n",
    "\n",
    "class Libro(Producto):\n",
    "    isbn = \"\"\n",
    "    autor = \"\"\n",
    "    \n",
    "    def __str__(self):\n",
    "        return \"\"\"\\\n",
    "REFERENCIA\\t{}\n",
    "NOMBRE\\t\\t{}\n",
    "PVP\\t\\t{}\n",
    "DESCRIPCIÓN\\t{}\n",
    "ISBN\\t\\t{}\n",
    "AUTOR\\t\\t{}\"\"\".format(self.referencia,self.nombre,self.pvp,self.descripcion,self.isbn,self.autor)"
   ]
  },
  {
   "cell_type": "code",
   "execution_count": 2,
   "metadata": {},
   "outputs": [],
   "source": [
    "a = Adorno(2014,\"Vaso Adornado\",15,\"test\")\n",
    "\n",
    "al = Alimento(2035,\"Botella de Aceite de Oliva\",5,\"Test\")\n",
    "al.productor=\"La Aceitera\"\n",
    "al.distribuidor=\"Distribuciones SA\"\n",
    "\n",
    "li = Libro(2045,\"Cocina\",9,\"Receta\")    \n",
    "li.isbn=\"0-23232-23-23\"\n",
    "li.autor=\"Irwin\""
   ]
  },
  {
   "cell_type": "code",
   "execution_count": 3,
   "metadata": {},
   "outputs": [],
   "source": [
    "productos = [a, al]"
   ]
  },
  {
   "cell_type": "code",
   "execution_count": null,
   "metadata": {},
   "outputs": [],
   "source": [
    "p"
   ]
  }
 ],
 "metadata": {
  "kernelspec": {
   "display_name": "Python 3 (ipykernel)",
   "language": "python",
   "name": "python3"
  },
  "language_info": {
   "codemirror_mode": {
    "name": "ipython",
    "version": 3
   },
   "file_extension": ".py",
   "mimetype": "text/x-python",
   "name": "python",
   "nbconvert_exporter": "python",
   "pygments_lexer": "ipython3",
   "version": "3.9.5"
  }
 },
 "nbformat": 4,
 "nbformat_minor": 1
}
