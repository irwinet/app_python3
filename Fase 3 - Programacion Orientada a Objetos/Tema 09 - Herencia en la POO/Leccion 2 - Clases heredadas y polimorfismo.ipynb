{
 "cells": [
  {
   "cell_type": "code",
   "execution_count": 1,
   "metadata": {},
   "outputs": [],
   "source": [
    "class Producto:\n",
    "    def __init__(self,referencia,nombre,pvp,descripcion):\n",
    "        self.referencia = referencia\n",
    "        self.nombre = nombre\n",
    "        self.pvp = pvp\n",
    "        self.descripcion = descripcion\n",
    "        \n",
    "    def __str__(self):\n",
    "        return \"\"\"\\\n",
    "REFERENCIA\\t{}\n",
    "NOMBRE\\t\\t{}\n",
    "PVP\\t\\t{}\n",
    "DESCRIPCIÓN\\t{}\"\"\".format(self.referencia,self.nombre,self.pvp,self.descripcion)\n",
    "    \n",
    "\n",
    "class Adorno(Producto):\n",
    "    pass\n",
    "\n",
    "\n",
    "class Alimento(Producto):\n",
    "    productor = \"\"\n",
    "    distribuidor = \"\"\n",
    "    \n",
    "    def __str__(self):\n",
    "        return \"\"\"\\\n",
    "REFERENCIA\\t{}\n",
    "NOMBRE\\t\\t{}\n",
    "PVP\\t\\t{}\n",
    "DESCRIPCIÓN\\t{}\n",
    "PRODUCTOR\\t{}\n",
    "DISTRIBUIDOR\\t{}\"\"\".format(self.referencia,self.nombre,self.pvp,self.descripcion,self.productor,self.distribuidor)\n",
    "\n",
    "\n",
    "class Libro(Producto):\n",
    "    isbn = \"\"\n",
    "    autor = \"\"\n",
    "    \n",
    "    def __str__(self):\n",
    "        return \"\"\"\\\n",
    "REFERENCIA\\t{}\n",
    "NOMBRE\\t\\t{}\n",
    "PVP\\t\\t{}\n",
    "DESCRIPCIÓN\\t{}\n",
    "ISBN\\t\\t{}\n",
    "AUTOR\\t\\t{}\"\"\".format(self.referencia,self.nombre,self.pvp,self.descripcion,self.isbn,self.autor)"
   ]
  },
  {
   "cell_type": "code",
   "execution_count": 2,
   "metadata": {},
   "outputs": [],
   "source": [
    "a = Adorno(2014,\"Vaso Adornado\",15,\"test\")\n",
    "\n",
    "al = Alimento(2035,\"Botella de Aceite de Oliva\",5,\"Test\")\n",
    "al.productor=\"La Aceitera\"\n",
    "al.distribuidor=\"Distribuciones SA\"\n",
    "\n",
    "li = Libro(2045,\"Cocina\",9,\"Receta\")    \n",
    "li.isbn=\"0-23232-23-23\"\n",
    "li.autor=\"Irwin\""
   ]
  },
  {
   "cell_type": "code",
   "execution_count": 3,
   "metadata": {},
   "outputs": [],
   "source": [
    "productos = [a, al]"
   ]
  },
  {
   "cell_type": "code",
   "execution_count": 4,
   "metadata": {},
   "outputs": [],
   "source": [
    "productos.append(li)"
   ]
  },
  {
   "cell_type": "code",
   "execution_count": 5,
   "metadata": {},
   "outputs": [
    {
     "data": {
      "text/plain": [
       "[<__main__.Adorno at 0x184fabb5640>,\n",
       " <__main__.Alimento at 0x184fabb5e80>,\n",
       " <__main__.Libro at 0x184fabb5430>]"
      ]
     },
     "execution_count": 5,
     "metadata": {},
     "output_type": "execute_result"
    }
   ],
   "source": [
    "productos"
   ]
  },
  {
   "cell_type": "code",
   "execution_count": 6,
   "metadata": {},
   "outputs": [
    {
     "name": "stdout",
     "output_type": "stream",
     "text": [
      "REFERENCIA\t2014\n",
      "NOMBRE\t\tVaso Adornado\n",
      "PVP\t\t15\n",
      "DESCRIPCIÓN\ttest \n",
      "\n",
      "REFERENCIA\t2035\n",
      "NOMBRE\t\tBotella de Aceite de Oliva\n",
      "PVP\t\t5\n",
      "DESCRIPCIÓN\tTest\n",
      "PRODUCTOR\tLa Aceitera\n",
      "DISTRIBUIDOR\tDistribuciones SA \n",
      "\n",
      "REFERENCIA\t2045\n",
      "NOMBRE\t\tCocina\n",
      "PVP\t\t9\n",
      "DESCRIPCIÓN\tReceta\n",
      "ISBN\t\t0-23232-23-23\n",
      "AUTOR\t\tIrwin \n",
      "\n"
     ]
    }
   ],
   "source": [
    "for p in productos:\n",
    "    print(p,\"\\n\")"
   ]
  },
  {
   "cell_type": "code",
   "execution_count": 8,
   "metadata": {},
   "outputs": [
    {
     "name": "stdout",
     "output_type": "stream",
     "text": [
      "2014 Vaso Adornado\n",
      "2035 Botella de Aceite de Oliva\n",
      "2045 Cocina\n"
     ]
    }
   ],
   "source": [
    "for p in productos:\n",
    "    print(p.referencia,p.nombre)"
   ]
  },
  {
   "cell_type": "code",
   "execution_count": 9,
   "metadata": {},
   "outputs": [
    {
     "ename": "AttributeError",
     "evalue": "'Adorno' object has no attribute 'autor'",
     "output_type": "error",
     "traceback": [
      "\u001b[1;31m---------------------------------------------------------------------------\u001b[0m",
      "\u001b[1;31mAttributeError\u001b[0m                            Traceback (most recent call last)",
      "\u001b[1;32m~\\AppData\\Local\\Temp/ipykernel_52916/418997789.py\u001b[0m in \u001b[0;36m<module>\u001b[1;34m\u001b[0m\n\u001b[0;32m      1\u001b[0m \u001b[1;32mfor\u001b[0m \u001b[0mp\u001b[0m \u001b[1;32min\u001b[0m \u001b[0mproductos\u001b[0m\u001b[1;33m:\u001b[0m\u001b[1;33m\u001b[0m\u001b[1;33m\u001b[0m\u001b[0m\n\u001b[1;32m----> 2\u001b[1;33m     \u001b[0mprint\u001b[0m\u001b[1;33m(\u001b[0m\u001b[0mp\u001b[0m\u001b[1;33m.\u001b[0m\u001b[0mautor\u001b[0m\u001b[1;33m)\u001b[0m\u001b[1;33m\u001b[0m\u001b[1;33m\u001b[0m\u001b[0m\n\u001b[0m",
      "\u001b[1;31mAttributeError\u001b[0m: 'Adorno' object has no attribute 'autor'"
     ]
    }
   ],
   "source": [
    "for p in productos:\n",
    "    print(p.autor)"
   ]
  },
  {
   "cell_type": "code",
   "execution_count": 10,
   "metadata": {},
   "outputs": [
    {
     "name": "stdout",
     "output_type": "stream",
     "text": [
      "2014 Vaso Adornado\n",
      "2035 Botella de Aceite de Oliva La Aceitera\n",
      "2045 Cocina 0-23232-23-23\n"
     ]
    }
   ],
   "source": [
    "for p in productos:\n",
    "    if(isinstance(p,Adorno)):\n",
    "        print(p.referencia,p.nombre)\n",
    "    elif(isinstance(p,Alimento)):\n",
    "        print(p.referencia,p.nombre,p.productor)\n",
    "    elif(isinstance(p,Libro)):\n",
    "        print(p.referencia,p.nombre,p.isbn)"
   ]
  },
  {
   "cell_type": "code",
   "execution_count": 11,
   "metadata": {},
   "outputs": [
    {
     "name": "stdout",
     "output_type": "stream",
     "text": [
      "REFERENCIA\t2035\n",
      "NOMBRE\t\tBotella de Aceite de Oliva\n",
      "PVP\t\t4.5\n",
      "DESCRIPCIÓN\tTest\n",
      "PRODUCTOR\tLa Aceitera\n",
      "DISTRIBUIDOR\tDistribuciones SA\n"
     ]
    }
   ],
   "source": [
    "def rebajar_producto(p,rebaja):\n",
    "    \"\"\"Devuelve un producto con una rebaja en porcentaje de su precio\"\"\"\n",
    "    p.pvp = p.pvp - (p.pvp/100*rebaja)\n",
    "    return p\n",
    "\n",
    "al_rebajado = rebajar_producto(al,10)\n",
    "print(al_rebajado)"
   ]
  },
  {
   "cell_type": "code",
   "execution_count": 12,
   "metadata": {},
   "outputs": [
    {
     "name": "stdout",
     "output_type": "stream",
     "text": [
      "REFERENCIA\t2035\n",
      "NOMBRE\t\tBotella de Aceite de Oliva\n",
      "PVP\t\t4.5\n",
      "DESCRIPCIÓN\tTest\n",
      "PRODUCTOR\tLa Aceitera\n",
      "DISTRIBUIDOR\tDistribuciones SA\n"
     ]
    }
   ],
   "source": [
    "print(al)"
   ]
  },
  {
   "cell_type": "code",
   "execution_count": 13,
   "metadata": {},
   "outputs": [],
   "source": [
    "copia_al = al"
   ]
  },
  {
   "cell_type": "code",
   "execution_count": 14,
   "metadata": {},
   "outputs": [],
   "source": [
    "copia_al.referencia=2222"
   ]
  },
  {
   "cell_type": "code",
   "execution_count": 15,
   "metadata": {},
   "outputs": [
    {
     "name": "stdout",
     "output_type": "stream",
     "text": [
      "REFERENCIA\t2222\n",
      "NOMBRE\t\tBotella de Aceite de Oliva\n",
      "PVP\t\t4.5\n",
      "DESCRIPCIÓN\tTest\n",
      "PRODUCTOR\tLa Aceitera\n",
      "DISTRIBUIDOR\tDistribuciones SA\n"
     ]
    }
   ],
   "source": [
    "print(copia_al)"
   ]
  },
  {
   "cell_type": "code",
   "execution_count": 16,
   "metadata": {},
   "outputs": [
    {
     "name": "stdout",
     "output_type": "stream",
     "text": [
      "REFERENCIA\t2222\n",
      "NOMBRE\t\tBotella de Aceite de Oliva\n",
      "PVP\t\t4.5\n",
      "DESCRIPCIÓN\tTest\n",
      "PRODUCTOR\tLa Aceitera\n",
      "DISTRIBUIDOR\tDistribuciones SA\n"
     ]
    }
   ],
   "source": [
    "print(al)"
   ]
  },
  {
   "cell_type": "code",
   "execution_count": 17,
   "metadata": {},
   "outputs": [],
   "source": [
    "l = [1,2,3]"
   ]
  },
  {
   "cell_type": "code",
   "execution_count": 21,
   "metadata": {},
   "outputs": [],
   "source": [
    "l2=l[:]"
   ]
  },
  {
   "cell_type": "code",
   "execution_count": 19,
   "metadata": {},
   "outputs": [],
   "source": [
    "l2.append(4)"
   ]
  },
  {
   "cell_type": "code",
   "execution_count": 20,
   "metadata": {},
   "outputs": [
    {
     "data": {
      "text/plain": [
       "[1, 2, 3, 4]"
      ]
     },
     "execution_count": 20,
     "metadata": {},
     "output_type": "execute_result"
    }
   ],
   "source": [
    "l"
   ]
  },
  {
   "cell_type": "code",
   "execution_count": 22,
   "metadata": {},
   "outputs": [],
   "source": [
    "import copy\n",
    "copia_ad=copy.copy(a)"
   ]
  },
  {
   "cell_type": "code",
   "execution_count": 23,
   "metadata": {},
   "outputs": [
    {
     "name": "stdout",
     "output_type": "stream",
     "text": [
      "REFERENCIA\t2014\n",
      "NOMBRE\t\tVaso Adornado\n",
      "PVP\t\t15\n",
      "DESCRIPCIÓN\ttest\n"
     ]
    }
   ],
   "source": [
    "print(copia_ad)"
   ]
  },
  {
   "cell_type": "code",
   "execution_count": 24,
   "metadata": {},
   "outputs": [],
   "source": [
    "copia_ad.pvp=25"
   ]
  },
  {
   "cell_type": "code",
   "execution_count": 25,
   "metadata": {},
   "outputs": [
    {
     "name": "stdout",
     "output_type": "stream",
     "text": [
      "REFERENCIA\t2014\n",
      "NOMBRE\t\tVaso Adornado\n",
      "PVP\t\t25\n",
      "DESCRIPCIÓN\ttest\n"
     ]
    }
   ],
   "source": [
    "print(copia_ad)"
   ]
  },
  {
   "cell_type": "code",
   "execution_count": 26,
   "metadata": {},
   "outputs": [
    {
     "name": "stdout",
     "output_type": "stream",
     "text": [
      "REFERENCIA\t2014\n",
      "NOMBRE\t\tVaso Adornado\n",
      "PVP\t\t15\n",
      "DESCRIPCIÓN\ttest\n"
     ]
    }
   ],
   "source": [
    "print(a)"
   ]
  },
  {
   "cell_type": "code",
   "execution_count": null,
   "metadata": {},
   "outputs": [],
   "source": []
  }
 ],
 "metadata": {
  "kernelspec": {
   "display_name": "Python 3 (ipykernel)",
   "language": "python",
   "name": "python3"
  },
  "language_info": {
   "codemirror_mode": {
    "name": "ipython",
    "version": 3
   },
   "file_extension": ".py",
   "mimetype": "text/x-python",
   "name": "python",
   "nbconvert_exporter": "python",
   "pygments_lexer": "ipython3",
   "version": "3.9.5"
  }
 },
 "nbformat": 4,
 "nbformat_minor": 1
}
