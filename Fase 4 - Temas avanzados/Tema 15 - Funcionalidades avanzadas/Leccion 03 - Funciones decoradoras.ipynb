{
 "cells": [
  {
   "cell_type": "markdown",
   "metadata": {},
   "source": [
    "# Ámbitos y funciones decoradoras"
   ]
  },
  {
   "cell_type": "markdown",
   "metadata": {},
   "source": [
    "#### NOTA: Antes de realizar esta lección debes reiniciar Jupyter Notebook para vaciar la memoria."
   ]
  },
  {
   "cell_type": "code",
   "execution_count": 1,
   "metadata": {},
   "outputs": [],
   "source": [
    "def hola():\n",
    "    def bienvenido():\n",
    "        return \"Hola!\"\n",
    "    \n",
    "    return bienvenido"
   ]
  },
  {
   "cell_type": "code",
   "execution_count": 2,
   "metadata": {},
   "outputs": [
    {
     "ename": "NameError",
     "evalue": "name 'bienvenido' is not defined",
     "output_type": "error",
     "traceback": [
      "\u001b[1;31m---------------------------------------------------------------------------\u001b[0m",
      "\u001b[1;31mNameError\u001b[0m                                 Traceback (most recent call last)",
      "\u001b[1;32m~\\AppData\\Local\\Temp/ipykernel_31960/3512225046.py\u001b[0m in \u001b[0;36m<module>\u001b[1;34m\u001b[0m\n\u001b[1;32m----> 1\u001b[1;33m \u001b[0mbienvenido\u001b[0m\u001b[1;33m(\u001b[0m\u001b[1;33m)\u001b[0m\u001b[1;33m\u001b[0m\u001b[1;33m\u001b[0m\u001b[0m\n\u001b[0m",
      "\u001b[1;31mNameError\u001b[0m: name 'bienvenido' is not defined"
     ]
    }
   ],
   "source": [
    "bienvenido()"
   ]
  },
  {
   "cell_type": "code",
   "execution_count": 3,
   "metadata": {},
   "outputs": [
    {
     "data": {
      "text/plain": [
       "<function __main__.hola.<locals>.bienvenido()>"
      ]
     },
     "execution_count": 3,
     "metadata": {},
     "output_type": "execute_result"
    }
   ],
   "source": [
    "hola()"
   ]
  },
  {
   "cell_type": "code",
   "execution_count": 7,
   "metadata": {},
   "outputs": [
    {
     "name": "stdout",
     "output_type": "stream",
     "text": [
      "{'numero': 50, 'bienvenido': <function hola.<locals>.bienvenido at 0x0000025AA7531310>}\n",
      "{'__name__': '__main__', '__doc__': 'Automatically created module for IPython interactive environment', '__package__': None, '__loader__': None, '__spec__': None, '__builtin__': <module 'builtins' (built-in)>, '__builtins__': <module 'builtins' (built-in)>, '_ih': ['', 'def hola():\\n    def bienvenido():\\n        return \"Hola!\"\\n    \\n    return bienvenido', 'bienvenido()', 'hola()', 'def hola():\\n    def bienvenido():\\n        return \"Hola!\"\\n    \\n    print(locals())\\n    return bienvenido\\nhola()', 'def hola():\\n    numero=50\\n    def bienvenido():\\n        return \"Hola!\"\\n    \\n    print(locals())\\n    return bienvenido\\nhola()', 'lista=[1,2,3]\\ndef hola():\\n    numero=50\\n    def bienvenido():\\n        return \"Hola!\"\\n    \\n    print(locals())\\n    return bienvenido\\nhola()', 'lista=[1,2,3]\\ndef hola():\\n    numero=50\\n    def bienvenido():\\n        return \"Hola!\"\\n    \\n    print(locals())\\n    print(globals())\\n    return bienvenido\\nhola()'], '_oh': {3: <function hola.<locals>.bienvenido at 0x0000025AA7531430>, 4: <function hola.<locals>.bienvenido at 0x0000025AA7449B80>, 5: <function hola.<locals>.bienvenido at 0x0000025AA75313A0>, 6: <function hola.<locals>.bienvenido at 0x0000025AA7531550>}, '_dh': ['C:\\\\Users\\\\iestrada\\\\CursoPython\\\\Fase 4 - Temas avanzados\\\\Tema 15 - Funcionalidades avanzadas'], 'In': ['', 'def hola():\\n    def bienvenido():\\n        return \"Hola!\"\\n    \\n    return bienvenido', 'bienvenido()', 'hola()', 'def hola():\\n    def bienvenido():\\n        return \"Hola!\"\\n    \\n    print(locals())\\n    return bienvenido\\nhola()', 'def hola():\\n    numero=50\\n    def bienvenido():\\n        return \"Hola!\"\\n    \\n    print(locals())\\n    return bienvenido\\nhola()', 'lista=[1,2,3]\\ndef hola():\\n    numero=50\\n    def bienvenido():\\n        return \"Hola!\"\\n    \\n    print(locals())\\n    return bienvenido\\nhola()', 'lista=[1,2,3]\\ndef hola():\\n    numero=50\\n    def bienvenido():\\n        return \"Hola!\"\\n    \\n    print(locals())\\n    print(globals())\\n    return bienvenido\\nhola()'], 'Out': {3: <function hola.<locals>.bienvenido at 0x0000025AA7531430>, 4: <function hola.<locals>.bienvenido at 0x0000025AA7449B80>, 5: <function hola.<locals>.bienvenido at 0x0000025AA75313A0>, 6: <function hola.<locals>.bienvenido at 0x0000025AA7531550>}, 'get_ipython': <bound method InteractiveShell.get_ipython of <ipykernel.zmqshell.ZMQInteractiveShell object at 0x0000025AA73E1A90>>, 'exit': <IPython.core.autocall.ZMQExitAutocall object at 0x0000025AA74135E0>, 'quit': <IPython.core.autocall.ZMQExitAutocall object at 0x0000025AA74135E0>, '_': <function hola.<locals>.bienvenido at 0x0000025AA7531550>, '__': <function hola.<locals>.bienvenido at 0x0000025AA75313A0>, '___': <function hola.<locals>.bienvenido at 0x0000025AA7449B80>, '_i': 'lista=[1,2,3]\\ndef hola():\\n    numero=50\\n    def bienvenido():\\n        return \"Hola!\"\\n    \\n    print(locals())\\n    return bienvenido\\nhola()', '_ii': 'def hola():\\n    numero=50\\n    def bienvenido():\\n        return \"Hola!\"\\n    \\n    print(locals())\\n    return bienvenido\\nhola()', '_iii': 'def hola():\\n    def bienvenido():\\n        return \"Hola!\"\\n    \\n    print(locals())\\n    return bienvenido\\nhola()', '_i1': 'def hola():\\n    def bienvenido():\\n        return \"Hola!\"\\n    \\n    return bienvenido', 'hola': <function hola at 0x0000025AA7531820>, '_i2': 'bienvenido()', '_i3': 'hola()', '_3': <function hola.<locals>.bienvenido at 0x0000025AA7531430>, '_i4': 'def hola():\\n    def bienvenido():\\n        return \"Hola!\"\\n    \\n    print(locals())\\n    return bienvenido\\nhola()', '_4': <function hola.<locals>.bienvenido at 0x0000025AA7449B80>, '_i5': 'def hola():\\n    numero=50\\n    def bienvenido():\\n        return \"Hola!\"\\n    \\n    print(locals())\\n    return bienvenido\\nhola()', '_5': <function hola.<locals>.bienvenido at 0x0000025AA75313A0>, '_i6': 'lista=[1,2,3]\\ndef hola():\\n    numero=50\\n    def bienvenido():\\n        return \"Hola!\"\\n    \\n    print(locals())\\n    return bienvenido\\nhola()', 'lista': [1, 2, 3], '_6': <function hola.<locals>.bienvenido at 0x0000025AA7531550>, '_i7': 'lista=[1,2,3]\\ndef hola():\\n    numero=50\\n    def bienvenido():\\n        return \"Hola!\"\\n    \\n    print(locals())\\n    print(globals())\\n    return bienvenido\\nhola()'}\n"
     ]
    },
    {
     "data": {
      "text/plain": [
       "<function __main__.hola.<locals>.bienvenido()>"
      ]
     },
     "execution_count": 7,
     "metadata": {},
     "output_type": "execute_result"
    }
   ],
   "source": [
    "lista=[1,2,3]\n",
    "def hola():\n",
    "    numero=50\n",
    "    def bienvenido():\n",
    "        return \"Hola!\"\n",
    "    \n",
    "    print(locals())\n",
    "    print(globals())\n",
    "    return bienvenido\n",
    "hola()"
   ]
  },
  {
   "cell_type": "code",
   "execution_count": 9,
   "metadata": {},
   "outputs": [
    {
     "data": {
      "text/plain": [
       "dict_keys(['__name__', '__doc__', '__package__', '__loader__', '__spec__', '__builtin__', '__builtins__', '_ih', '_oh', '_dh', 'In', 'Out', 'get_ipython', 'exit', 'quit', '_', '__', '___', '_i', '_ii', '_iii', '_i1', 'hola', '_i2', '_i3', '_3', '_i4', '_4', '_i5', '_5', '_i6', 'lista', '_6', '_i7', '_7', '_i8', '_8', '_i9'])"
      ]
     },
     "execution_count": 9,
     "metadata": {},
     "output_type": "execute_result"
    }
   ],
   "source": [
    "globals().keys()"
   ]
  },
  {
   "cell_type": "code",
   "execution_count": 10,
   "metadata": {},
   "outputs": [
    {
     "data": {
      "text/plain": [
       "[1, 2, 3]"
      ]
     },
     "execution_count": 10,
     "metadata": {},
     "output_type": "execute_result"
    }
   ],
   "source": [
    "globals()['lista']"
   ]
  },
  {
   "cell_type": "code",
   "execution_count": 11,
   "metadata": {},
   "outputs": [
    {
     "data": {
      "text/plain": [
       "[1, 2, 3]"
      ]
     },
     "execution_count": 11,
     "metadata": {},
     "output_type": "execute_result"
    }
   ],
   "source": [
    "lista"
   ]
  },
  {
   "cell_type": "code",
   "execution_count": 14,
   "metadata": {},
   "outputs": [
    {
     "data": {
      "text/plain": [
       "'Hola!'"
      ]
     },
     "execution_count": 14,
     "metadata": {},
     "output_type": "execute_result"
    }
   ],
   "source": [
    "def hola():\n",
    "    def bienvenido():\n",
    "        return \"Hola!\"\n",
    "    \n",
    "    return bienvenido\n",
    "hola()()"
   ]
  },
  {
   "cell_type": "code",
   "execution_count": 15,
   "metadata": {},
   "outputs": [
    {
     "data": {
      "text/plain": [
       "'Hola!'"
      ]
     },
     "execution_count": 15,
     "metadata": {},
     "output_type": "execute_result"
    }
   ],
   "source": [
    "bienvenido = hola()\n",
    "bienvenido()"
   ]
  },
  {
   "cell_type": "code",
   "execution_count": 16,
   "metadata": {},
   "outputs": [],
   "source": [
    "del(hola)"
   ]
  },
  {
   "cell_type": "code",
   "execution_count": 17,
   "metadata": {},
   "outputs": [
    {
     "data": {
      "text/plain": [
       "'Hola!'"
      ]
     },
     "execution_count": 17,
     "metadata": {},
     "output_type": "execute_result"
    }
   ],
   "source": [
    "bienvenido()"
   ]
  },
  {
   "cell_type": "code",
   "execution_count": 18,
   "metadata": {},
   "outputs": [
    {
     "name": "stdout",
     "output_type": "stream",
     "text": [
      "Hola!\n"
     ]
    }
   ],
   "source": [
    "def hola():\n",
    "    return \"Hola!\"\n",
    "\n",
    "def test(funcion):\n",
    "    print(funcion())\n",
    "    \n",
    "test(hola)"
   ]
  },
  {
   "cell_type": "code",
   "execution_count": 19,
   "metadata": {},
   "outputs": [],
   "source": [
    "def hola():\n",
    "    print(\"Hola!\")\n",
    "def adios():\n",
    "    print(\"Adios!\")\n",
    "    \n",
    "def monitorizar(funcion):\n",
    "    def decorar():\n",
    "        print(\"\\tEsta a punto de ejecutar la funcion\", funcion.__name__)\n",
    "        funcion()        \n",
    "        print(\"\\tSe ha finalizado la ejecucion la funcion\", funcion.__name__)\n",
    "    return decorar"
   ]
  },
  {
   "cell_type": "code",
   "execution_count": 21,
   "metadata": {},
   "outputs": [
    {
     "name": "stdout",
     "output_type": "stream",
     "text": [
      "\tEsta a punto de ejecutar la funcion hola\n",
      "Hola!\n",
      "\tSe ha finalizado la ejecucion la funcion hola\n"
     ]
    }
   ],
   "source": [
    "monitorizar(hola)()"
   ]
  },
  {
   "cell_type": "code",
   "execution_count": 22,
   "metadata": {},
   "outputs": [
    {
     "name": "stdout",
     "output_type": "stream",
     "text": [
      "\tEsta a punto de ejecutar la funcion adios\n",
      "Adios!\n",
      "\tSe ha finalizado la ejecucion la funcion adios\n"
     ]
    }
   ],
   "source": [
    "monitorizar(adios)()"
   ]
  },
  {
   "cell_type": "code",
   "execution_count": 23,
   "metadata": {},
   "outputs": [],
   "source": [
    "@monitorizar\n",
    "def hola():\n",
    "    print(\"Hola!\")\n",
    "\n",
    "@monitorizar\n",
    "def adios():\n",
    "    print(\"Adios!\")"
   ]
  },
  {
   "cell_type": "code",
   "execution_count": 24,
   "metadata": {},
   "outputs": [
    {
     "name": "stdout",
     "output_type": "stream",
     "text": [
      "\tEsta a punto de ejecutar la funcion hola\n",
      "Hola!\n",
      "\tSe ha finalizado la ejecucion la funcion hola\n"
     ]
    }
   ],
   "source": [
    "hola()"
   ]
  },
  {
   "cell_type": "code",
   "execution_count": 25,
   "metadata": {},
   "outputs": [
    {
     "name": "stdout",
     "output_type": "stream",
     "text": [
      "\tEsta a punto de ejecutar la funcion adios\n",
      "Adios!\n",
      "\tSe ha finalizado la ejecucion la funcion adios\n"
     ]
    }
   ],
   "source": [
    "adios()"
   ]
  },
  {
   "cell_type": "code",
   "execution_count": 26,
   "metadata": {},
   "outputs": [
    {
     "name": "stdout",
     "output_type": "stream",
     "text": [
      "\tEsta a punto de ejecutar la funcion saludar\n",
      "Buenos dias!\n",
      "\tSe ha finalizado la ejecucion la funcion saludar\n"
     ]
    }
   ],
   "source": [
    "@monitorizar\n",
    "def saludar():\n",
    "    print(\"Buenos dias!\")\n",
    "    \n",
    "saludar()"
   ]
  },
  {
   "cell_type": "code",
   "execution_count": 27,
   "metadata": {},
   "outputs": [
    {
     "ename": "TypeError",
     "evalue": "decorar() takes 0 positional arguments but 1 was given",
     "output_type": "error",
     "traceback": [
      "\u001b[1;31m---------------------------------------------------------------------------\u001b[0m",
      "\u001b[1;31mTypeError\u001b[0m                                 Traceback (most recent call last)",
      "\u001b[1;32m~\\AppData\\Local\\Temp/ipykernel_31960/835668018.py\u001b[0m in \u001b[0;36m<module>\u001b[1;34m\u001b[0m\n\u001b[0;32m      3\u001b[0m     \u001b[0mprint\u001b[0m\u001b[1;33m(\u001b[0m\u001b[0mtexto\u001b[0m\u001b[1;33m)\u001b[0m\u001b[1;33m\u001b[0m\u001b[1;33m\u001b[0m\u001b[0m\n\u001b[0;32m      4\u001b[0m \u001b[1;33m\u001b[0m\u001b[0m\n\u001b[1;32m----> 5\u001b[1;33m \u001b[0msaludar\u001b[0m\u001b[1;33m(\u001b[0m\u001b[1;34m\"Hola!!!\"\u001b[0m\u001b[1;33m)\u001b[0m\u001b[1;33m\u001b[0m\u001b[1;33m\u001b[0m\u001b[0m\n\u001b[0m",
      "\u001b[1;31mTypeError\u001b[0m: decorar() takes 0 positional arguments but 1 was given"
     ]
    }
   ],
   "source": [
    "@monitorizar\n",
    "def saludar(texto):\n",
    "    print(texto)\n",
    "    \n",
    "saludar(\"Hola!!!\")"
   ]
  },
  {
   "cell_type": "code",
   "execution_count": 28,
   "metadata": {},
   "outputs": [],
   "source": [
    "def monitorizar_args(funcion):\n",
    "    def decorar(*args,**kwargs):\n",
    "        print(\"\\tEsta a punto de ejecutar la funcion\", funcion.__name__)\n",
    "        funcion(*args,**kwargs)        \n",
    "        print(\"\\tSe ha finalizado la ejecucion la funcion\", funcion.__name__)\n",
    "    return decorar"
   ]
  },
  {
   "cell_type": "code",
   "execution_count": 31,
   "metadata": {},
   "outputs": [],
   "source": [
    "@monitorizar_args\n",
    "def hola(nombre):\n",
    "    print(\"Hola {}!\".format(nombre))\n",
    "\n",
    "@monitorizar_args\n",
    "def adios(nombre):\n",
    "    print(\"Adios {}!\".format(nombre))"
   ]
  },
  {
   "cell_type": "code",
   "execution_count": 32,
   "metadata": {},
   "outputs": [
    {
     "name": "stdout",
     "output_type": "stream",
     "text": [
      "\tEsta a punto de ejecutar la funcion hola\n",
      "Hola iRWIN!\n",
      "\tSe ha finalizado la ejecucion la funcion hola\n"
     ]
    }
   ],
   "source": [
    "hola(\"iRWIN\")"
   ]
  },
  {
   "cell_type": "code",
   "execution_count": 33,
   "metadata": {},
   "outputs": [
    {
     "name": "stdout",
     "output_type": "stream",
     "text": [
      "\tEsta a punto de ejecutar la funcion adios\n",
      "Adios iRWIN!\n",
      "\tSe ha finalizado la ejecucion la funcion adios\n"
     ]
    }
   ],
   "source": [
    "adios(\"iRWIN\")"
   ]
  },
  {
   "cell_type": "code",
   "execution_count": 34,
   "metadata": {},
   "outputs": [
    {
     "name": "stdout",
     "output_type": "stream",
     "text": [
      "\tEsta a punto de ejecutar la funcion saludar\n",
      "Hola!!!\n",
      "\tSe ha finalizado la ejecucion la funcion saludar\n"
     ]
    }
   ],
   "source": [
    "@monitorizar_args\n",
    "def saludar(texto):\n",
    "    print(texto)\n",
    "    \n",
    "saludar(\"Hola!!!\")"
   ]
  },
  {
   "cell_type": "code",
   "execution_count": null,
   "metadata": {},
   "outputs": [],
   "source": []
  }
 ],
 "metadata": {
  "anaconda-cloud": {},
  "kernelspec": {
   "display_name": "Python 3 (ipykernel)",
   "language": "python",
   "name": "python3"
  },
  "language_info": {
   "codemirror_mode": {
    "name": "ipython",
    "version": 3
   },
   "file_extension": ".py",
   "mimetype": "text/x-python",
   "name": "python",
   "nbconvert_exporter": "python",
   "pygments_lexer": "ipython3",
   "version": "3.9.5"
  }
 },
 "nbformat": 4,
 "nbformat_minor": 1
}
