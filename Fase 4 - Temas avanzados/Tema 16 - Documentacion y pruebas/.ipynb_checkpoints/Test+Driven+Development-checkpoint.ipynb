{
 "cells": [
  {
   "cell_type": "markdown",
   "id": "a772fba8",
   "metadata": {},
   "source": [
    "# Test Driven Development (desarrollo guiado por pruebas)\n",
    "\n",
    "A diferencia de programar un proyecto y luego añadir pruebas, en el [desarrollo guiado por pruebas](https://es.wikipedia.org/wiki/Desarrollo_guiado_por_pruebas) la idea es dejar que sean las propias pruebas las que guíen el proceso de desarrollo.\n",
    "\n",
    "Siguiendo este modelo cada funcionalidad es concebida desde el principio con la idea de superar un `test` y por tanto está monitorizada para su correcto funcionamiento en el futuro.\n",
    "\n",
    "No todo el software es apto para ser implementado mediante TDD, existen requisitos:\n",
    "\n",
    "* El sistema que se programa tiene que ser lo suficientemente flexible como para permitir que sea probado automáticamente. \n",
    "* Cada prueba será suficientemente pequeña como para que permita determinar unívocamente si el código probado pasa o no la verificación impuesta.\n",
    "\n",
    "Además para hacer TDD hay que seguir un orden estricto, empezando por realizar una lista de requisitos y realizar el siguiente ciclo:\n",
    "\n",
    "1. **Elegir un requisito** que nos de mayor conocimiento del problema y sea fácil de implementar.\n",
    "2. **Escribir una prueba** que recoja el requisito de la funcionalidad que vamos a implementar.\n",
    "2. **Verificar que la prueba falla** ya que todavía no habremos implementado la funcionalidad.\n",
    "3. **Escribir la implementación** con el código mínimo necesario.\n",
    "4. **Ejecutar las pruebas automatizadas** verificando que todo el conjunto funciones correctamente.\n",
    "5. **Refactorizar el código** borrando redundancias e incongruencias comprobando que los tests siguen validando.\n",
    "6. **Actualizar la lista de requisitos** tachando el que hemos completado y tomando nota de nuevos requisitos detectados.\n",
    "\n",
    "En la próxima lección vamos a realizar un ejemplo práctico."
   ]
  }
 ],
 "metadata": {
  "kernelspec": {
   "display_name": "Python 3 (ipykernel)",
   "language": "python",
   "name": "python3"
  },
  "language_info": {
   "codemirror_mode": {
    "name": "ipython",
    "version": 3
   },
   "file_extension": ".py",
   "mimetype": "text/x-python",
   "name": "python",
   "nbconvert_exporter": "python",
   "pygments_lexer": "ipython3",
   "version": "3.10.2"
  }
 },
 "nbformat": 4,
 "nbformat_minor": 5
}
