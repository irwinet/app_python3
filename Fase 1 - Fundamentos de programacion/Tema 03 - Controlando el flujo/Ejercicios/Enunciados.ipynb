{
 "cells": [
  {
   "cell_type": "markdown",
   "metadata": {},
   "source": [
    "# Tema 03: Control de flujo (Enunciados)\n",
    "*Nota: Estos ejercicios son optativos para hacer al final de la unidad y están pensados para apoyar tu aprendizaje*."
   ]
  },
  {
   "cell_type": "markdown",
   "metadata": {},
   "source": [
    "**1) Realiza un programa que lea dos números por teclado y permita elegir entre 3 opciones en un menú:** \n",
    "* Mostrar una suma de los dos números\n",
    "* Mostrar una resta de los dos números (el primero menos el segundo)\n",
    "* Mostrar una multiplicación de los dos números\n",
    "* En caso de no introducir una opción válida, el programa informará de que no es correcta."
   ]
  },
  {
   "cell_type": "code",
   "execution_count": 4,
   "metadata": {},
   "outputs": [
    {
     "name": "stdout",
     "output_type": "stream",
     "text": [
      "Introduce un numero: 3\n",
      "Introduce otro numero: 3\n",
      "Que quieres hacer?\n",
      "[1] Sumar dos numeros\n",
      "[2] Restar los dos numeros\n",
      "[3] Multiplicar los dos numeros\n",
      "Introduce una opcion: 3\n",
      "el producto de 3.0 * 3.0 es 9.0\n"
     ]
    }
   ],
   "source": [
    "# Completa el ejercicio aquí\n",
    "\n",
    "n1 = float(input(\"Introduce un numero: \"))\n",
    "n2 = float(input(\"Introduce otro numero: \"))\n",
    "\n",
    "print(\"Que quieres hacer?\")\n",
    "print(\"[1] Sumar dos numeros\")\n",
    "print(\"[2] Restar los dos numeros\")\n",
    "print(\"[3] Multiplicar los dos numeros\")\n",
    "\n",
    "opcion = input(\"Introduce una opcion: \")\n",
    "\n",
    "if(opcion == \"1\"):\n",
    "    print(\"la suma de\", n1, \"+\", n2, \"es\", n1+n2)\n",
    "elif(opcion == \"2\"):\n",
    "    print(\"la resta de\", n1, \"-\", n2, \"es\", n1-n2)\n",
    "elif(opcion == \"3\"):\n",
    "    print(\"el producto de\", n1, \"*\", n2, \"es\", n1*n2)\n",
    "else: \n",
    "    print(\"la opcion es incorrecta\")"
   ]
  },
  {
   "cell_type": "markdown",
   "metadata": {},
   "source": [
    "**2) Realiza un programa que lea un número impar por teclado. Si el usuario no introduce un número impar, debe repetise el proceso hasta que lo introduzca correctamente.**"
   ]
  },
  {
   "cell_type": "code",
   "execution_count": 5,
   "metadata": {},
   "outputs": [
    {
     "name": "stdout",
     "output_type": "stream",
     "text": [
      "Introduce un numero impar:4\n",
      "Introduce un numero impar:6\n",
      "Introduce un numero impar:2\n",
      "Introduce un numero impar:3\n"
     ]
    }
   ],
   "source": [
    "# Completa el ejercicio aquí\n",
    "numero = 0\n",
    "while numero % 2 == 0:\n",
    "    numero = int(input(\"Introduce un numero impar:\"))"
   ]
  },
  {
   "cell_type": "markdown",
   "metadata": {},
   "source": [
    "**3) Realiza un programa que sume todos los números enteros pares desde el 0 hasta el 100:**\n",
    "\n",
    "*Sugerencia: Puedes utilizar la funciones sum() y range() para hacerlo más fácil. El tercer parámetro en la función range(inicio, fin, salto) indica un salto de números, pruébalo.*"
   ]
  },
  {
   "cell_type": "code",
   "execution_count": 12,
   "metadata": {},
   "outputs": [
    {
     "name": "stdout",
     "output_type": "stream",
     "text": [
      "2550\n",
      "2550\n"
     ]
    }
   ],
   "source": [
    "# Completa el ejercicio aquí\n",
    "# sum(list(range(0,101,2)))\n",
    "suma = sum(range(0,101,2))\n",
    "print(suma)\n",
    "\n",
    "#segunda forma\n",
    "num = 0\n",
    "suma = 0\n",
    "while(num<=100):\n",
    "    if(num%2==0):\n",
    "        suma+=num\n",
    "    num+=1\n",
    "print(suma)"
   ]
  },
  {
   "cell_type": "markdown",
   "metadata": {},
   "source": [
    "**4) Realiza un programa que pida al usuario cuantos números quiere introducir. Luego lee todos los números y realiza una media aritmética:**\n"
   ]
  },
  {
   "cell_type": "code",
   "execution_count": 14,
   "metadata": {},
   "outputs": [
    {
     "name": "stdout",
     "output_type": "stream",
     "text": [
      "cuantos numeros quieres introducir?3\n",
      "Introduce un numero:10\n",
      "Introduce un numero:5\n",
      "Introduce un numero:7\n",
      "Se han introducidos 3 numeros que en total han sumado 22.0 y la media es 7.333333333333333\n"
     ]
    }
   ],
   "source": [
    "# Completa el ejercicio aquí\n",
    "numeros = int(input(\"cuantos numeros quieres introducir?\"))\n",
    "suma = 0\n",
    "for x in range(numeros):\n",
    "    suma+=float(input(\"Introduce un numero:\"))\n",
    "print(\"Se han introducidos\",numeros,\"numeros que en total han sumado\", suma,\"y la media es\",suma/numeros)"
   ]
  },
  {
   "cell_type": "markdown",
   "metadata": {},
   "source": [
    "**5) Realiza un programa que pida al usuario un número entero del 0 al 9, y que mientras el número no sea correcto se repita el proceso. Luego debe comprobar si el número se encuentra en la lista de números y notificarlo:**\n",
    "\n",
    "*Consejo: La sintaxis \"valor in lista\" permite comprobar fácilmente si un valor se encuentra en una lista (devuelve True o False)*"
   ]
  },
  {
   "cell_type": "code",
   "execution_count": 19,
   "metadata": {},
   "outputs": [
    {
     "name": "stdout",
     "output_type": "stream",
     "text": [
      "Escribe un numero del 0 al 9:6\n",
      "El numero 6 se encuentra en la lista [1, 3, 6, 9]\n"
     ]
    }
   ],
   "source": [
    "# Completa el ejercicio aquí\n",
    "numeros = [1, 3, 6, 9]\n",
    "while True:\n",
    "    numero = int(input(\"Escribe un numero del 0 al 9:\"))\n",
    "    if numero >=0 and numero <= 9:\n",
    "        break;\n",
    "    \n",
    "if numero in numeros:\n",
    "    print(\"El numero\", numero,\"se encuentra en la lista\",numeros)\n",
    "else:\n",
    "    print(\"El numero\", numero,\"No se encuentra en la lista\",numeros)"
   ]
  },
  {
   "cell_type": "markdown",
   "metadata": {},
   "source": [
    "**6) Utilizando la función range() y la conversión a listas genera las siguientes listas dinámicamente:**\n",
    "* Todos los números del 0 al 10 [0, 1, 2, ..., 10]\n",
    "* Todos los números del -10 al 0 [-10, -9, -8, ..., 0]\n",
    "* Todos los números pares del 0 al 20 [0, 2, 4, ..., 20]\n",
    "* Todos los números impares entre -20 y 0 [-19, -17, -15, ..., -1]\n",
    "* Todos los números múltiples de 5 del 0 al 50 [0, 5, 10, ..., 50]\n",
    "\n",
    "*Pista: Utiliza el tercer parámetro de la función range(inicio, fin, salto).*"
   ]
  },
  {
   "cell_type": "code",
   "execution_count": 20,
   "metadata": {},
   "outputs": [
    {
     "name": "stdout",
     "output_type": "stream",
     "text": [
      "[0, 1, 2, 3, 4, 5, 6, 7, 8, 9, 10]\n",
      "[-10, -9, -8, -7, -6, -5, -4, -3, -2, -1, 0]\n",
      "[0, 2, 4, 6, 8, 10, 12, 14, 16, 18, 20]\n",
      "[-19, -17, -15, -13, -11, -9, -7, -5, -3, -1]\n",
      "[0, 5, 10, 15, 20, 25, 30, 35, 40, 45, 50]\n"
     ]
    }
   ],
   "source": [
    "# Completa el ejercicio\n",
    "print(list(range(0,11)))\n",
    "print(list(range(-10,1)))\n",
    "print(list(range(0,21,2)))\n",
    "print(list(range(-19,1,2)))\n",
    "print(list(range(0,51,5)))"
   ]
  },
  {
   "cell_type": "markdown",
   "metadata": {},
   "source": [
    "**7) Dadas dos listas, debes generar una tercera con todos los elementos que se repitan en ellas, pero no debe repetise ningún elemento en la nueva lista:**"
   ]
  },
  {
   "cell_type": "code",
   "execution_count": 8,
   "metadata": {},
   "outputs": [],
   "source": [
    "# Completa el ejercicio aquí\n",
    "lista_1 = [\"h\",'o','l','a',' ','m','u','n','d','o']\n",
    "lista_2 = [\"h\",'o','l','a',' ','l','u','n','a']\n",
    "lista_3 = []\n",
    "for let"
   ]
  }
 ],
 "metadata": {
  "anaconda-cloud": {},
  "kernelspec": {
   "display_name": "Python 3 (ipykernel)",
   "language": "python",
   "name": "python3"
  },
  "language_info": {
   "codemirror_mode": {
    "name": "ipython",
    "version": 3
   },
   "file_extension": ".py",
   "mimetype": "text/x-python",
   "name": "python",
   "nbconvert_exporter": "python",
   "pygments_lexer": "ipython3",
   "version": "3.9.5"
  }
 },
 "nbformat": 4,
 "nbformat_minor": 1
}
