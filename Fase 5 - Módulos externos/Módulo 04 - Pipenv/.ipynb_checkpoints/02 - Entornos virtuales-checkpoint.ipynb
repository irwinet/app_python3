{
 "cells": [
  {
   "cell_type": "markdown",
   "id": "b6cd723f",
   "metadata": {},
   "source": [
    "# Entornos virtuales\n",
    "\n",
    "## Python y PIP\n",
    "\n",
    "Cuando ejecutamos Python generalmente lo hacemos a través del intérprete instalado en nuestro sistema, podemos consultar donde se encuentra ese entorno ejecutando una simple consulta en el módulo `sys`:"
   ]
  },
  {
   "cell_type": "code",
   "execution_count": 1,
   "id": "f41beffc",
   "metadata": {},
   "outputs": [
    {
     "data": {
      "text/plain": [
       "'C:\\\\Program Files\\\\Python311\\\\python.exe'"
      ]
     },
     "execution_count": 1,
     "metadata": {},
     "output_type": "execute_result"
    }
   ],
   "source": [
    "import sys\n",
    "sys.executable"
   ]
  },
  {
   "cell_type": "code",
   "execution_count": null,
   "id": "26f82a87",
   "metadata": {},
   "outputs": [],
   "source": []
  },
  {
   "cell_type": "markdown",
   "id": "8f113c2a",
   "metadata": {},
   "source": [
    "Podemos consultar la versión del intérprete desde una terminal:"
   ]
  },
  {
   "cell_type": "code",
   "execution_count": 2,
   "id": "61092833",
   "metadata": {},
   "outputs": [
    {
     "name": "stdout",
     "output_type": "stream",
     "text": [
      "Python 3.11.1\n"
     ]
    }
   ],
   "source": [
    "!python --version  # en su defecto utilizar python3"
   ]
  },
  {
   "cell_type": "code",
   "execution_count": null,
   "id": "68eceedd",
   "metadata": {},
   "outputs": [],
   "source": []
  },
  {
   "cell_type": "markdown",
   "id": "c5fbb28b",
   "metadata": {},
   "source": [
    "El intérprete de Python tiene su propio gestor de paquetes llamado `pip`:"
   ]
  },
  {
   "cell_type": "code",
   "execution_count": 3,
   "id": "0974927c",
   "metadata": {},
   "outputs": [
    {
     "name": "stdout",
     "output_type": "stream",
     "text": [
      "pip 22.3.1 from C:\\Program Files\\Python311\\Lib\\site-packages\\pip (python 3.11)\n",
      "\n"
     ]
    }
   ],
   "source": [
    "!pip --version"
   ]
  },
  {
   "cell_type": "code",
   "execution_count": null,
   "id": "1189be34",
   "metadata": {},
   "outputs": [],
   "source": []
  },
  {
   "cell_type": "markdown",
   "id": "f525baab",
   "metadata": {},
   "source": [
    "Este gestor es un módulo, por eso se puede ejecutar como un módulo mediante el parámetro `-m`:"
   ]
  },
  {
   "cell_type": "code",
   "execution_count": 4,
   "id": "cc7a376c",
   "metadata": {},
   "outputs": [
    {
     "name": "stdout",
     "output_type": "stream",
     "text": [
      "pip 22.3.1 from C:\\Program Files\\Python311\\Lib\\site-packages\\pip (python 3.11)\n",
      "\n"
     ]
    }
   ],
   "source": [
    "!python -m pip --version"
   ]
  },
  {
   "cell_type": "code",
   "execution_count": null,
   "id": "5c40d6c9",
   "metadata": {},
   "outputs": [],
   "source": []
  },
  {
   "cell_type": "markdown",
   "id": "ac6dd40a",
   "metadata": {},
   "source": [
    "Con esa lógica se puede actualizar como cualquier otro módulo del sistema:"
   ]
  },
  {
   "cell_type": "code",
   "execution_count": 5,
   "id": "3d75e3ba",
   "metadata": {},
   "outputs": [
    {
     "name": "stdout",
     "output_type": "stream",
     "text": [
      "Requirement already satisfied: pip in /Library/Frameworks/Python.framework/Versions/3.10/lib/python3.10/site-packages (22.2)\r\n"
     ]
    }
   ],
   "source": [
    "!python -m pip install --upgrade pip"
   ]
  },
  {
   "cell_type": "markdown",
   "id": "0e1fa403",
   "metadata": {},
   "source": [
    "Cada intérprete tiene asignado un solo un gestor de paquetes `pip`, eso significa que solo podemos instalar una versión de el mismo paquete:"
   ]
  },
  {
   "cell_type": "code",
   "execution_count": 5,
   "id": "79c9a68f",
   "metadata": {},
   "outputs": [
    {
     "name": "stdout",
     "output_type": "stream",
     "text": [
      "Package                  Version\n",
      "------------------------ -----------\n",
      "anyio                    3.6.2\n",
      "argon2-cffi              21.3.0\n",
      "argon2-cffi-bindings     21.2.0\n",
      "arrow                    1.2.3\n",
      "asttokens                2.2.1\n",
      "attrs                    22.2.0\n",
      "backcall                 0.2.0\n",
      "beautifulsoup4           4.11.1\n",
      "bleach                   5.0.1\n",
      "certifi                  2022.12.7\n",
      "cffi                     1.15.1\n",
      "colorama                 0.4.6\n",
      "comm                     0.1.2\n",
      "debugpy                  1.6.5\n",
      "decorator                5.1.1\n",
      "defusedxml               0.7.1\n",
      "distlib                  0.3.6\n",
      "entrypoints              0.4\n",
      "executing                1.2.0\n",
      "fastjsonschema           2.16.2\n",
      "filelock                 3.9.0\n",
      "fqdn                     1.5.1\n",
      "idna                     3.4\n",
      "iniconfig                2.0.0\n",
      "ipykernel                6.20.1\n",
      "ipython                  8.8.0\n",
      "ipython-genutils         0.2.0\n",
      "isoduration              20.11.0\n",
      "jedi                     0.18.2\n",
      "Jinja2                   3.1.2\n",
      "jsonpointer              2.3\n",
      "jsonschema               4.17.3\n",
      "jupyter_client           7.4.8\n",
      "jupyter_core             5.1.3\n",
      "jupyter-events           0.6.2\n",
      "jupyter_server           2.0.6\n",
      "jupyter_server_terminals 0.4.4\n",
      "jupyterlab-pygments      0.2.2\n",
      "MarkupSafe               2.1.1\n",
      "matplotlib-inline        0.1.6\n",
      "mistune                  2.0.4\n",
      "nbclassic                0.4.8\n",
      "nbclient                 0.7.2\n",
      "nbconvert                7.2.7\n",
      "nbformat                 5.7.2\n",
      "nest-asyncio             1.5.6\n",
      "notebook                 6.5.2\n",
      "notebook_shim            0.2.2\n",
      "packaging                23.0\n",
      "pandocfilters            1.5.0\n",
      "parso                    0.8.3\n",
      "pickleshare              0.7.5\n",
      "pip                      22.3.1\n",
      "pipenv                   2022.12.19\n",
      "platformdirs             2.6.2\n",
      "pluggy                   1.0.0\n",
      "prometheus-client        0.15.0\n",
      "prompt-toolkit           3.0.36\n",
      "psutil                   5.9.4\n",
      "pure-eval                0.2.2\n",
      "pycparser                2.21\n",
      "Pygments                 2.14.0\n",
      "pyrsistent               0.19.3\n",
      "pytest                   7.2.0\n",
      "python-dateutil          2.8.2\n",
      "python-json-logger       2.0.4\n",
      "pywin32                  305\n",
      "pywinpty                 2.0.10\n",
      "PyYAML                   6.0\n",
      "pyzmq                    24.0.1\n",
      "rfc3339-validator        0.1.4\n",
      "rfc3986-validator        0.1.1\n",
      "Send2Trash               1.8.0\n",
      "setuptools               65.5.0\n",
      "six                      1.16.0\n",
      "sniffio                  1.3.0\n",
      "soupsieve                2.3.2.post1\n",
      "stack-data               0.6.2\n",
      "terminado                0.17.1\n",
      "tinycss2                 1.2.1\n",
      "tornado                  6.2\n",
      "traitlets                5.8.1\n",
      "uri-template             1.2.0\n",
      "virtualenv               20.17.1\n",
      "virtualenv-clone         0.5.7\n",
      "wcwidth                  0.2.5\n",
      "webcolors                1.12\n",
      "webencodings             0.5.1\n",
      "websocket-client         1.4.2\n"
     ]
    }
   ],
   "source": [
    "!pip list"
   ]
  },
  {
   "cell_type": "code",
   "execution_count": null,
   "id": "0cea4323",
   "metadata": {},
   "outputs": [],
   "source": []
  },
  {
   "cell_type": "markdown",
   "id": "79522ea3",
   "metadata": {},
   "source": [
    "¿No estáis de acuerdo conmigo en que si desarrollamos diferentes proyectos, es posible que necesitemos versiones diferentes de un mismo paquete? \n",
    "\n",
    "Por ejemplo imaginad que empezamos un proyecto con la versión 1 de un paquete como dependencia y al poco lo actualizan a la 2. Sin embargo no podemos actualizarlo porque han cambiado cosas y el proyecto quedaría inservible. Si a eso le sumamos que paralelamente necesitamos instalar sí o sí la versión 2 para otro proyecto qué podemos hacer?\n",
    "\n",
    "## Entornos virtuales\n",
    "\n",
    "Los desarrolladores de `Python` son consicientes de este problema y por eso el intérprete incorpora un módulo interno  llamado `venv`:"
   ]
  },
  {
   "cell_type": "code",
   "execution_count": 6,
   "id": "8ac023ce",
   "metadata": {},
   "outputs": [
    {
     "name": "stdout",
     "output_type": "stream",
     "text": [
      "usage: venv [-h] [--system-site-packages] [--symlinks | --copies] [--clear]\n",
      "            [--upgrade] [--without-pip] [--prompt PROMPT] [--upgrade-deps]\n",
      "            ENV_DIR [ENV_DIR ...]\n",
      "\n",
      "Creates virtual Python environments in one or more target directories.\n",
      "\n",
      "positional arguments:\n",
      "  ENV_DIR               A directory to create the environment in.\n",
      "\n",
      "options:\n",
      "  -h, --help            show this help message and exit\n",
      "  --system-site-packages\n",
      "                        Give the virtual environment access to the system\n",
      "                        site-packages dir.\n",
      "  --symlinks            Try to use symlinks rather than copies, when symlinks\n",
      "                        are not the default for the platform.\n",
      "  --copies              Try to use copies rather than symlinks, even when\n",
      "                        symlinks are the default for the platform.\n",
      "  --clear               Delete the contents of the environment directory if it\n",
      "                        already exists, before environment creation.\n",
      "  --upgrade             Upgrade the environment directory to use this version\n",
      "                        of Python, assuming Python has been upgraded in-place.\n",
      "  --without-pip         Skips installing or upgrading pip in the virtual\n",
      "                        environment (pip is bootstrapped by default)\n",
      "  --prompt PROMPT       Provides an alternative prompt prefix for this\n",
      "                        environment.\n",
      "  --upgrade-deps        Upgrade core dependencies: pip setuptools to the\n",
      "                        latest version in PyPI\n",
      "\n",
      "Once an environment has been created, you may wish to activate it, e.g. by\n",
      "sourcing an activate script in its bin directory.\n"
     ]
    }
   ],
   "source": [
    "!python -m venv -h"
   ]
  },
  {
   "cell_type": "code",
   "execution_count": null,
   "id": "ecfd90b4",
   "metadata": {},
   "outputs": [],
   "source": []
  },
  {
   "cell_type": "markdown",
   "id": "a93bc01e",
   "metadata": {},
   "source": [
    "Este módulo permite crear copias del **entorno nativo** de `Python` con su propio gestor `pip` llamadas **entornos virtuales**.\n",
    "\n",
    "Como manejar entornos virtuales con `venv` requiere mucho trabajo aprenderemos un módulo más moderno para hacer lo mismo y más:\n",
    "\n",
    "## Pipenv\n",
    "\n",
    "Tal como su nombre indica, `Pipenv` es `pip` + `venv`, un conjunto de funcionalidades que permite gestionar entornos virtuales y sus dependencias:"
   ]
  },
  {
   "cell_type": "code",
   "execution_count": 7,
   "id": "f9d81419",
   "metadata": {
    "scrolled": true
   },
   "outputs": [
    {
     "name": "stdout",
     "output_type": "stream",
     "text": [
      "Usage: python -m pipenv [OPTIONS] COMMAND [ARGS]...\n",
      "\n",
      "Options:\n",
      "  --where                         Output project home information.\n",
      "  --venv                          Output virtualenv information.\n",
      "  --py                            Output Python interpreter information.\n",
      "  --envs                          Output Environment Variable options.\n",
      "  --rm                            Remove the virtualenv.\n",
      "  --bare                          Minimal output.\n",
      "  --man                           Display manpage.\n",
      "  --support                       Output diagnostic information for use in\n",
      "                                  GitHub issues.\n",
      "  --site-packages / --no-site-packages\n",
      "                                  Enable site-packages for the virtualenv.\n",
      "                                  [env var: PIPENV_SITE_PACKAGES]\n",
      "  --python TEXT                   Specify which version of Python virtualenv\n",
      "                                  should use.\n",
      "  --three                         Use Python 3 when creating virtualenv.\n",
      "                                  Deprecated\n",
      "  --clear                         Clears caches (pipenv, pip).  [env var:\n",
      "                                  PIPENV_CLEAR]\n",
      "  -q, --quiet                     Quiet mode.\n",
      "  -v, --verbose                   Verbose mode.\n",
      "  --pypi-mirror TEXT              Specify a PyPI mirror.\n",
      "  --version                       Show the version and exit.\n",
      "  -h, --help                      Show this message and exit.\n",
      "\n",
      "\n",
      "Usage Examples:\n",
      "   Create a new project using Python 3.7, specifically:\n",
      "   $ pipenv --python 3.7\n",
      "\n",
      "   Remove project virtualenv (inferred from current directory):\n",
      "   $ pipenv --rm\n",
      "\n",
      "   Install all dependencies for a project (including dev):\n",
      "   $ pipenv install --dev\n",
      "\n",
      "   Create a lockfile containing pre-releases:\n",
      "   $ pipenv lock --pre\n",
      "\n",
      "   Show a graph of your installed dependencies:\n",
      "   $ pipenv graph\n",
      "\n",
      "   Check your installed dependencies for security vulnerabilities:\n",
      "   $ pipenv check\n",
      "\n",
      "   Install a local setup.py into your virtual environment/Pipfile:\n",
      "   $ pipenv install -e .\n",
      "\n",
      "   Use a lower-level pip command:\n",
      "   $ pipenv run pip freeze\n",
      "\n",
      "Commands:\n",
      "  check         Checks for PyUp Safety security vulnerabilities and against\n",
      "                PEP 508 markers provided in Pipfile.\n",
      "  clean         Uninstalls all packages not specified in Pipfile.lock.\n",
      "  graph         Displays currently-installed dependency graph information.\n",
      "  install       Installs provided packages and adds them to Pipfile, or (if no\n",
      "                packages are given), installs all packages from Pipfile.\n",
      "  lock          Generates Pipfile.lock.\n",
      "  open          View a given module in your editor.\n",
      "  requirements  Generate a requirements.txt from Pipfile.lock.\n",
      "  run           Spawns a command installed into the virtualenv.\n",
      "  scripts       Lists scripts in current environment config.\n",
      "  shell         Spawns a shell within the virtualenv.\n",
      "  sync          Installs all packages specified in Pipfile.lock.\n",
      "  uninstall     Uninstalls a provided package and removes it from Pipfile.\n",
      "  update        Runs lock, then sync.\n",
      "  verify        Verify the hash in Pipfile.lock is up-to-date.\n"
     ]
    }
   ],
   "source": [
    "!python -m pipenv -h"
   ]
  },
  {
   "cell_type": "code",
   "execution_count": null,
   "id": "000f75c6",
   "metadata": {},
   "outputs": [],
   "source": []
  },
  {
   "cell_type": "markdown",
   "id": "e3ddb561",
   "metadata": {},
   "source": [
    "En la próxima lección vamos a aprender a utilizar `Pipenv` mediante la práctica creando nuestro primer entorno virtual."
   ]
  },
  {
   "cell_type": "code",
   "execution_count": null,
   "id": "29645b8f",
   "metadata": {},
   "outputs": [],
   "source": []
  }
 ],
 "metadata": {
  "kernelspec": {
   "display_name": "Python 3 (ipykernel)",
   "language": "python",
   "name": "python3"
  },
  "language_info": {
   "codemirror_mode": {
    "name": "ipython",
    "version": 3
   },
   "file_extension": ".py",
   "mimetype": "text/x-python",
   "name": "python",
   "nbconvert_exporter": "python",
   "pygments_lexer": "ipython3",
   "version": "3.11.1"
  }
 },
 "nbformat": 4,
 "nbformat_minor": 5
}
