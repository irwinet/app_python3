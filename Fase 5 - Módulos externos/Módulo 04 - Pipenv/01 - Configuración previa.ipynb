{
 "cells": [
  {
   "cell_type": "markdown",
   "id": "2dd737d5",
   "metadata": {},
   "source": [
    "# Configuración previa\n",
    "\n",
    "Instalación de Pipenv  por si alguien no lo tiene:\n",
    "\n",
    "```bash\n",
    "pip install pipenv\n",
    "```\n",
    "\n",
    "También se puede instalar desde el propio Jupyter Notebook con una exclamación delante:\n",
    "\n",
    "\n",
    "```bash\n",
    "!pip install pipenv\n",
    "```"
   ]
  },
  {
   "cell_type": "code",
   "execution_count": 5,
   "id": "9858b7ce",
   "metadata": {},
   "outputs": [
    {
     "name": "stdout",
     "output_type": "stream",
     "text": [
      "Defaulting to user installation because normal site-packages is not writeable\n",
      "Requirement already satisfied: pipenv in c:\\users\\neksys10\\appdata\\roaming\\python\\python311\\site-packages (2022.12.19)\n",
      "Requirement already satisfied: certifi in c:\\users\\neksys10\\appdata\\roaming\\python\\python311\\site-packages (from pipenv) (2022.12.7)\n",
      "Requirement already satisfied: setuptools>=36.2.1 in c:\\program files\\python311\\lib\\site-packages (from pipenv) (65.5.0)\n",
      "Requirement already satisfied: virtualenv-clone>=0.2.5 in c:\\users\\neksys10\\appdata\\roaming\\python\\python311\\site-packages (from pipenv) (0.5.7)\n",
      "Requirement already satisfied: virtualenv in c:\\users\\neksys10\\appdata\\roaming\\python\\python311\\site-packages (from pipenv) (20.17.1)\n",
      "Requirement already satisfied: distlib<1,>=0.3.6 in c:\\users\\neksys10\\appdata\\roaming\\python\\python311\\site-packages (from virtualenv->pipenv) (0.3.6)\n",
      "Requirement already satisfied: filelock<4,>=3.4.1 in c:\\users\\neksys10\\appdata\\roaming\\python\\python311\\site-packages (from virtualenv->pipenv) (3.9.0)\n",
      "Requirement already satisfied: platformdirs<3,>=2.4 in c:\\users\\neksys10\\appdata\\roaming\\python\\python311\\site-packages (from virtualenv->pipenv) (2.6.2)\n"
     ]
    }
   ],
   "source": [
    "!pip install pipenv"
   ]
  },
  {
   "cell_type": "code",
   "execution_count": null,
   "id": "8b7ffd41",
   "metadata": {},
   "outputs": [],
   "source": []
  },
  {
   "cell_type": "code",
   "execution_count": null,
   "id": "d3328e32",
   "metadata": {},
   "outputs": [],
   "source": []
  },
  {
   "cell_type": "code",
   "execution_count": null,
   "id": "f1f5adaf",
   "metadata": {},
   "outputs": [],
   "source": []
  },
  {
   "cell_type": "code",
   "execution_count": null,
   "id": "032bc2da",
   "metadata": {},
   "outputs": [],
   "source": []
  },
  {
   "cell_type": "code",
   "execution_count": null,
   "id": "ec5b0d8f",
   "metadata": {},
   "outputs": [],
   "source": []
  }
 ],
 "metadata": {
  "kernelspec": {
   "display_name": "Python 3 (ipykernel)",
   "language": "python",
   "name": "python3"
  },
  "language_info": {
   "codemirror_mode": {
    "name": "ipython",
    "version": 3
   },
   "file_extension": ".py",
   "mimetype": "text/x-python",
   "name": "python",
   "nbconvert_exporter": "python",
   "pygments_lexer": "ipython3",
   "version": "3.11.1"
  }
 },
 "nbformat": 4,
 "nbformat_minor": 5
}
