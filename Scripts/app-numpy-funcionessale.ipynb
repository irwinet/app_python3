{
 "cells": [
  {
   "cell_type": "code",
   "execution_count": 2,
   "id": "27b885ff",
   "metadata": {},
   "outputs": [
    {
     "data": {
      "text/plain": [
       "0.5235928169487288"
      ]
     },
     "execution_count": 2,
     "metadata": {},
     "output_type": "execute_result"
    }
   ],
   "source": [
    "import numpy as np\n",
    "np.random.rand()"
   ]
  },
  {
   "cell_type": "code",
   "execution_count": 3,
   "id": "a1780982",
   "metadata": {},
   "outputs": [
    {
     "data": {
      "text/plain": [
       "array([0.94731507, 0.86493497, 0.50659341, 0.60474163])"
      ]
     },
     "execution_count": 3,
     "metadata": {},
     "output_type": "execute_result"
    }
   ],
   "source": [
    "np.random.rand(4)"
   ]
  },
  {
   "cell_type": "code",
   "execution_count": 4,
   "id": "38c56405",
   "metadata": {},
   "outputs": [
    {
     "data": {
      "text/plain": [
       "array([[0.00784538, 0.59954566],\n",
       "       [0.24371726, 0.58021113],\n",
       "       [0.24304185, 0.93592866],\n",
       "       [0.77932984, 0.26827794]])"
      ]
     },
     "execution_count": 4,
     "metadata": {},
     "output_type": "execute_result"
    }
   ],
   "source": [
    "np.random.rand(4,2)"
   ]
  },
  {
   "cell_type": "code",
   "execution_count": 5,
   "id": "7a0a00bc",
   "metadata": {},
   "outputs": [
    {
     "data": {
      "text/plain": [
       "array([[[4.46661881, 8.33380993],\n",
       "        [6.52968457, 4.80059132]],\n",
       "\n",
       "       [[1.14197732, 5.49517237],\n",
       "        [8.75948254, 9.95233301]]])"
      ]
     },
     "execution_count": 5,
     "metadata": {},
     "output_type": "execute_result"
    }
   ],
   "source": [
    "np.random.uniform(10,size=[2,2,2])"
   ]
  },
  {
   "cell_type": "code",
   "execution_count": 6,
   "id": "916a3f31",
   "metadata": {},
   "outputs": [
    {
     "data": {
      "text/plain": [
       "array([[[[ 9.82306952,  8.93679888],\n",
       "         [ 9.29854749, -5.43368   ]],\n",
       "\n",
       "        [[-7.53473339,  2.22345549],\n",
       "         [ 2.55685703,  3.58153034]]],\n",
       "\n",
       "\n",
       "       [[[-7.96557584,  7.77486943],\n",
       "         [ 5.78426486, -4.45979754]],\n",
       "\n",
       "        [[-9.21777369, -5.58541445],\n",
       "         [ 6.72160356, -9.60923082]]]])"
      ]
     },
     "execution_count": 6,
     "metadata": {},
     "output_type": "execute_result"
    }
   ],
   "source": [
    "np.random.uniform(-10,10,size=[2,2,2,2])"
   ]
  },
  {
   "cell_type": "code",
   "execution_count": 7,
   "id": "5c10b52e",
   "metadata": {},
   "outputs": [
    {
     "data": {
      "text/plain": [
       "0"
      ]
     },
     "execution_count": 7,
     "metadata": {},
     "output_type": "execute_result"
    }
   ],
   "source": [
    "np.random.randint(10)"
   ]
  },
  {
   "cell_type": "code",
   "execution_count": 8,
   "id": "fe21ca5f",
   "metadata": {},
   "outputs": [
    {
     "data": {
      "text/plain": [
       "array([[1, 1],\n",
       "       [9, 4],\n",
       "       [9, 5]])"
      ]
     },
     "execution_count": 8,
     "metadata": {},
     "output_type": "execute_result"
    }
   ],
   "source": [
    "np.random.randint(10, size=[3,2])"
   ]
  },
  {
   "cell_type": "code",
   "execution_count": 9,
   "id": "dde3570e",
   "metadata": {},
   "outputs": [
    {
     "data": {
      "text/plain": [
       "array([[-4,  1],\n",
       "       [ 4, -3],\n",
       "       [-8, -6]])"
      ]
     },
     "execution_count": 9,
     "metadata": {},
     "output_type": "execute_result"
    }
   ],
   "source": [
    "np.random.randint(-10,10, size=[3,2])"
   ]
  },
  {
   "cell_type": "code",
   "execution_count": 10,
   "id": "89ae7a33",
   "metadata": {},
   "outputs": [
    {
     "data": {
      "text/plain": [
       "array([-0.06942544,  0.75534751, -2.07206785, -1.55645159, -1.50893598,\n",
       "        0.59716795,  1.03202522,  0.66114536, -1.34353491,  0.51607964,\n",
       "        1.04656824,  0.09038977,  1.20450868,  0.61652034, -1.08588148,\n",
       "        0.14787114, -0.11935097, -1.21749918,  0.89238787, -1.17743485,\n",
       "       -1.29546853, -0.20716866,  1.74615439, -0.03169875, -1.63060059,\n",
       "       -0.06917648, -1.21335542, -0.98901905, -2.04970008,  0.62923438,\n",
       "       -0.52865476, -1.10816035,  0.91991241,  0.45051496,  1.03977068,\n",
       "        1.01458912,  0.48730871,  0.6614799 ,  2.10725364,  0.17227765,\n",
       "       -0.89681742, -0.7506613 , -0.81885081,  0.79428773, -1.91260229,\n",
       "       -0.23970301, -0.14440014, -1.63485045, -2.24022143,  0.55452476,\n",
       "        0.20398603,  0.76022245, -0.572983  , -0.92335308, -1.00436795,\n",
       "       -1.51897685,  0.35482811,  0.10091894,  0.03970589, -1.78444208,\n",
       "        0.65483197,  0.28270838,  0.28172517,  0.60179238,  1.56773822,\n",
       "        2.18457431, -0.01277658,  0.42430795,  0.06008489, -0.56855394,\n",
       "       -0.1349027 , -1.80942435, -0.54826575,  0.47356106,  1.64555912,\n",
       "        0.44584221,  0.83106619,  0.02431683,  0.61672634, -0.26011721,\n",
       "       -0.01291909, -0.58085864,  0.96594679, -0.72570323, -0.00533666,\n",
       "       -1.57980176, -0.2790192 , -0.49115157, -0.0740263 ,  0.08204618,\n",
       "       -0.48964927, -0.08977322,  0.98298979,  0.27061024, -1.28766961,\n",
       "       -0.43179287, -0.98222305, -0.71204556,  1.13778916, -0.05649287])"
      ]
     },
     "execution_count": 10,
     "metadata": {},
     "output_type": "execute_result"
    }
   ],
   "source": [
    "np.random.normal(size=100)"
   ]
  },
  {
   "cell_type": "code",
   "execution_count": 11,
   "id": "cbe84bb3",
   "metadata": {},
   "outputs": [
    {
     "data": {
      "text/plain": [
       "array([0, 1, 2, 3, 4, 5, 6, 7, 8, 9])"
      ]
     },
     "execution_count": 11,
     "metadata": {},
     "output_type": "execute_result"
    }
   ],
   "source": [
    "arr = np.arange(10)\n",
    "arr"
   ]
  },
  {
   "cell_type": "code",
   "execution_count": 12,
   "id": "b037f7d2",
   "metadata": {},
   "outputs": [
    {
     "data": {
      "text/plain": [
       "array([9, 5, 0, 8, 4, 1, 2, 3, 7, 6])"
      ]
     },
     "execution_count": 12,
     "metadata": {},
     "output_type": "execute_result"
    }
   ],
   "source": [
    "np.random.shuffle(arr)\n",
    "arr"
   ]
  },
  {
   "cell_type": "code",
   "execution_count": 13,
   "id": "c447ef7d",
   "metadata": {},
   "outputs": [
    {
     "data": {
      "text/plain": [
       "array([6, 0, 7, 1, 2, 9, 5, 3, 4, 8])"
      ]
     },
     "execution_count": 13,
     "metadata": {},
     "output_type": "execute_result"
    }
   ],
   "source": [
    "arr = np.random.permutation(10)\n",
    "arr"
   ]
  },
  {
   "cell_type": "code",
   "execution_count": null,
   "id": "10f652b1",
   "metadata": {},
   "outputs": [],
   "source": []
  }
 ],
 "metadata": {
  "kernelspec": {
   "display_name": "Python 3 (ipykernel)",
   "language": "python",
   "name": "python3"
  },
  "language_info": {
   "codemirror_mode": {
    "name": "ipython",
    "version": 3
   },
   "file_extension": ".py",
   "mimetype": "text/x-python",
   "name": "python",
   "nbconvert_exporter": "python",
   "pygments_lexer": "ipython3",
   "version": "3.9.5"
  }
 },
 "nbformat": 4,
 "nbformat_minor": 5
}
