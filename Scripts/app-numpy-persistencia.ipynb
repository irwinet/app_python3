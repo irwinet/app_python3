{
 "cells": [
  {
   "cell_type": "code",
   "execution_count": 1,
   "id": "899bb44d",
   "metadata": {},
   "outputs": [
    {
     "data": {
      "text/plain": [
       "array([[0, 3, 1],\n",
       "       [1, 3, 3],\n",
       "       [2, 3, 3]])"
      ]
     },
     "execution_count": 1,
     "metadata": {},
     "output_type": "execute_result"
    }
   ],
   "source": [
    "import numpy as np\n",
    "arr_1 = np.random.randint(0,4,[3,3])\n",
    "arr_1"
   ]
  },
  {
   "cell_type": "code",
   "execution_count": 2,
   "id": "982014ee",
   "metadata": {},
   "outputs": [],
   "source": [
    "np.save('arr_1.npy',arr_1)"
   ]
  },
  {
   "cell_type": "code",
   "execution_count": 3,
   "id": "b8cc38b3",
   "metadata": {},
   "outputs": [
    {
     "ename": "NameError",
     "evalue": "name 'arr_1' is not defined",
     "output_type": "error",
     "traceback": [
      "\u001b[1;31m---------------------------------------------------------------------------\u001b[0m",
      "\u001b[1;31mNameError\u001b[0m                                 Traceback (most recent call last)",
      "Input \u001b[1;32mIn [3]\u001b[0m, in \u001b[0;36m<cell line: 2>\u001b[1;34m()\u001b[0m\n\u001b[0;32m      1\u001b[0m \u001b[38;5;28;01mdel\u001b[39;00m(arr_1)\n\u001b[1;32m----> 2\u001b[0m \u001b[43marr_1\u001b[49m\n",
      "\u001b[1;31mNameError\u001b[0m: name 'arr_1' is not defined"
     ]
    }
   ],
   "source": [
    "del(arr_1)\n",
    "arr_1"
   ]
  },
  {
   "cell_type": "code",
   "execution_count": 4,
   "id": "54c5c35e",
   "metadata": {},
   "outputs": [
    {
     "data": {
      "text/plain": [
       "array([[0, 3, 1],\n",
       "       [1, 3, 3],\n",
       "       [2, 3, 3]])"
      ]
     },
     "execution_count": 4,
     "metadata": {},
     "output_type": "execute_result"
    }
   ],
   "source": [
    "arr_1=np.load('arr_1.npy')\n",
    "arr_1"
   ]
  },
  {
   "cell_type": "code",
   "execution_count": 5,
   "id": "4a11f3f1",
   "metadata": {},
   "outputs": [
    {
     "data": {
      "text/plain": [
       "(array([[1, 3, 3],\n",
       "        [0, 2, 1],\n",
       "        [0, 0, 2]]),\n",
       " array([[-4, -2, -1],\n",
       "        [-4, -3, -2],\n",
       "        [-3, -4, -3]]))"
      ]
     },
     "execution_count": 5,
     "metadata": {},
     "output_type": "execute_result"
    }
   ],
   "source": [
    "arr_1=np.random.randint(0,4,[3,3])\n",
    "arr_2=np.random.randint(-4,0,[3,3])\n",
    "arr_1,arr_2"
   ]
  },
  {
   "cell_type": "code",
   "execution_count": 6,
   "id": "c9783ebb",
   "metadata": {},
   "outputs": [],
   "source": [
    "np.savez('arrays.npz',arr_1=arr_1,arr_2=arr_2)#claves"
   ]
  },
  {
   "cell_type": "code",
   "execution_count": 7,
   "id": "dd8bbeb9",
   "metadata": {},
   "outputs": [],
   "source": [
    "del(arr_1)\n",
    "del(arr_2)"
   ]
  },
  {
   "cell_type": "code",
   "execution_count": 8,
   "id": "2d19e025",
   "metadata": {},
   "outputs": [
    {
     "data": {
      "text/plain": [
       "<numpy.lib.npyio.NpzFile at 0x21cd1319d30>"
      ]
     },
     "execution_count": 8,
     "metadata": {},
     "output_type": "execute_result"
    }
   ],
   "source": [
    "arrays = np.load('arrays.npz')\n",
    "arrays"
   ]
  },
  {
   "cell_type": "code",
   "execution_count": 9,
   "id": "1f631bd5",
   "metadata": {},
   "outputs": [
    {
     "data": {
      "text/plain": [
       "(array([[1, 3, 3],\n",
       "        [0, 2, 1],\n",
       "        [0, 0, 2]]),\n",
       " array([[-4, -2, -1],\n",
       "        [-4, -3, -2],\n",
       "        [-3, -4, -3]]))"
      ]
     },
     "execution_count": 9,
     "metadata": {},
     "output_type": "execute_result"
    }
   ],
   "source": [
    "arrays['arr_1'],arrays['arr_2']"
   ]
  },
  {
   "cell_type": "code",
   "execution_count": 10,
   "id": "39729919",
   "metadata": {},
   "outputs": [
    {
     "data": {
      "text/plain": [
       "array([[ 7,  3,  4],\n",
       "       [ 8,  7,  8],\n",
       "       [-7, -8,  6]])"
      ]
     },
     "execution_count": 10,
     "metadata": {},
     "output_type": "execute_result"
    }
   ],
   "source": [
    "arr_3=np.random.randint(-10,10,[3,3])\n",
    "arr_3"
   ]
  },
  {
   "cell_type": "code",
   "execution_count": 11,
   "id": "b93617dc",
   "metadata": {},
   "outputs": [],
   "source": [
    "np.savetxt('arr_3.txt',arr_3)"
   ]
  },
  {
   "cell_type": "code",
   "execution_count": 12,
   "id": "5153dd9d",
   "metadata": {},
   "outputs": [],
   "source": [
    "np.savetxt('arr_3.txt',arr_3,delimiter=',')"
   ]
  },
  {
   "cell_type": "code",
   "execution_count": 13,
   "id": "8426bf05",
   "metadata": {},
   "outputs": [],
   "source": [
    "del(arr_3)"
   ]
  },
  {
   "cell_type": "code",
   "execution_count": 14,
   "id": "6a186b1d",
   "metadata": {},
   "outputs": [
    {
     "data": {
      "text/plain": [
       "array([[ 7.,  3.,  4.],\n",
       "       [ 8.,  7.,  8.],\n",
       "       [-7., -8.,  6.]])"
      ]
     },
     "execution_count": 14,
     "metadata": {},
     "output_type": "execute_result"
    }
   ],
   "source": [
    "arr_3=np.loadtxt('arr_3.txt',delimiter=',')\n",
    "arr_3"
   ]
  },
  {
   "cell_type": "code",
   "execution_count": null,
   "id": "30809e52",
   "metadata": {},
   "outputs": [],
   "source": []
  }
 ],
 "metadata": {
  "kernelspec": {
   "display_name": "Python 3 (ipykernel)",
   "language": "python",
   "name": "python3"
  },
  "language_info": {
   "codemirror_mode": {
    "name": "ipython",
    "version": 3
   },
   "file_extension": ".py",
   "mimetype": "text/x-python",
   "name": "python",
   "nbconvert_exporter": "python",
   "pygments_lexer": "ipython3",
   "version": "3.9.5"
  }
 },
 "nbformat": 4,
 "nbformat_minor": 5
}
