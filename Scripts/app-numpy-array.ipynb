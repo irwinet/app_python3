{
 "cells": [
  {
   "cell_type": "code",
   "execution_count": 9,
   "id": "3b35536e",
   "metadata": {},
   "outputs": [
    {
     "name": "stdout",
     "output_type": "stream",
     "text": [
      "<class 'numpy.ndarray'>\n",
      "<U11\n",
      "1\n",
      "(4,)\n"
     ]
    }
   ],
   "source": [
    "import numpy as np\n",
    "\n",
    "#array = np.array([1, 2, 3, 4, 5, 6.123])\n",
    "array = np.array([\"hola\",\"que\",\"tal\", 12])\n",
    "\n",
    "print(type(array))\n",
    "print(array.dtype)\n",
    "print(array.ndim)\n",
    "print(array.shape)"
   ]
  },
  {
   "cell_type": "code",
   "execution_count": 4,
   "id": "54dc5176",
   "metadata": {},
   "outputs": [],
   "source": [
    "array = np.array([\n",
    "    [1, 2, 3, 4, 5],\n",
    "    [6, 7, 8, 9, 10]\n",
    "])"
   ]
  },
  {
   "cell_type": "code",
   "execution_count": 5,
   "id": "a3c2b949",
   "metadata": {},
   "outputs": [
    {
     "name": "stdout",
     "output_type": "stream",
     "text": [
      "<class 'numpy.ndarray'>\n",
      "2\n",
      "(2, 5)\n"
     ]
    }
   ],
   "source": [
    "print(type(array))\n",
    "print(array.ndim)\n",
    "print(array.shape)"
   ]
  },
  {
   "cell_type": "code",
   "execution_count": 10,
   "id": "e30deadc",
   "metadata": {},
   "outputs": [
    {
     "data": {
      "text/plain": [
       "array([0., 0., 0.])"
      ]
     },
     "execution_count": 10,
     "metadata": {},
     "output_type": "execute_result"
    }
   ],
   "source": [
    "np.zeros(3)"
   ]
  },
  {
   "cell_type": "code",
   "execution_count": 11,
   "id": "e86da753",
   "metadata": {},
   "outputs": [],
   "source": [
    "# %% Definir una tipica celda VSC"
   ]
  },
  {
   "cell_type": "code",
   "execution_count": 12,
   "id": "79ad3f2b",
   "metadata": {},
   "outputs": [
    {
     "data": {
      "text/plain": [
       "array([[0., 0., 0.],\n",
       "       [0., 0., 0.],\n",
       "       [0., 0., 0.]])"
      ]
     },
     "execution_count": 12,
     "metadata": {},
     "output_type": "execute_result"
    }
   ],
   "source": [
    "np.zeros([3,3])"
   ]
  },
  {
   "cell_type": "code",
   "execution_count": 13,
   "id": "370de670",
   "metadata": {},
   "outputs": [
    {
     "data": {
      "text/plain": [
       "array([[1., 1., 1.],\n",
       "       [1., 1., 1.],\n",
       "       [1., 1., 1.]])"
      ]
     },
     "execution_count": 13,
     "metadata": {},
     "output_type": "execute_result"
    }
   ],
   "source": [
    "np.ones([3,3])"
   ]
  },
  {
   "cell_type": "code",
   "execution_count": 14,
   "id": "7f3d2327",
   "metadata": {},
   "outputs": [
    {
     "data": {
      "text/plain": [
       "array([[1., 0., 0.],\n",
       "       [0., 1., 0.],\n",
       "       [0., 0., 1.]])"
      ]
     },
     "execution_count": 14,
     "metadata": {},
     "output_type": "execute_result"
    }
   ],
   "source": [
    "np.eye(3)"
   ]
  },
  {
   "cell_type": "code",
   "execution_count": 15,
   "id": "a6630ab6",
   "metadata": {},
   "outputs": [
    {
     "data": {
      "text/plain": [
       "array([0, 1, 2, 3])"
      ]
     },
     "execution_count": 15,
     "metadata": {},
     "output_type": "execute_result"
    }
   ],
   "source": [
    "#Rango de 0 a 4\n",
    "np.arange(4)"
   ]
  },
  {
   "cell_type": "code",
   "execution_count": 16,
   "id": "aad31ac6",
   "metadata": {},
   "outputs": [
    {
     "data": {
      "text/plain": [
       "array([0., 1., 2., 3.])"
      ]
     },
     "execution_count": 16,
     "metadata": {},
     "output_type": "execute_result"
    }
   ],
   "source": [
    "#Rango de 0 a 4 decimal\n",
    "np.arange(4.)"
   ]
  },
  {
   "cell_type": "code",
   "execution_count": 17,
   "id": "5cf0b6ce",
   "metadata": {},
   "outputs": [
    {
     "data": {
      "text/plain": [
       "array([-3, -2, -1,  0,  1,  2])"
      ]
     },
     "execution_count": 17,
     "metadata": {},
     "output_type": "execute_result"
    }
   ],
   "source": [
    "#Rango de -3 a 4\n",
    "np.arange(-3,3)"
   ]
  },
  {
   "cell_type": "code",
   "execution_count": 18,
   "id": "7b32e53b",
   "metadata": {},
   "outputs": [
    {
     "data": {
      "text/plain": [
       "array([ 0,  5, 10, 15])"
      ]
     },
     "execution_count": 18,
     "metadata": {},
     "output_type": "execute_result"
    }
   ],
   "source": [
    "#Rango de 0 a 20 cada 5 numeros\n",
    "np.arange(0,20,5)"
   ]
  },
  {
   "cell_type": "code",
   "execution_count": 19,
   "id": "ec6b9500",
   "metadata": {},
   "outputs": [],
   "source": [
    "# OPERACIONES"
   ]
  },
  {
   "cell_type": "code",
   "execution_count": null,
   "id": "41a8496f",
   "metadata": {},
   "outputs": [],
   "source": []
  }
 ],
 "metadata": {
  "kernelspec": {
   "display_name": "Python 3 (ipykernel)",
   "language": "python",
   "name": "python3"
  },
  "language_info": {
   "codemirror_mode": {
    "name": "ipython",
    "version": 3
   },
   "file_extension": ".py",
   "mimetype": "text/x-python",
   "name": "python",
   "nbconvert_exporter": "python",
   "pygments_lexer": "ipython3",
   "version": "3.9.5"
  }
 },
 "nbformat": 4,
 "nbformat_minor": 5
}
