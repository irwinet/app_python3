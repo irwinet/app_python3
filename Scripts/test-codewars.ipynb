{
 "cells": [
  {
   "cell_type": "code",
   "execution_count": 11,
   "id": "3b11fe7e",
   "metadata": {},
   "outputs": [
    {
     "name": "stdout",
     "output_type": "stream",
     "text": [
      "['Open', 'Senior', 'Open', 'Senior']\n"
     ]
    }
   ],
   "source": [
    "test = (45, 12),(55,21),(19, -2),(104, 20)\n",
    "result=[]\n",
    "def open_or_senior(data):\n",
    "    for item in data:\n",
    "        if item[0]>=55 and item[1]>7:\n",
    "            result.append(\"Senior\")\n",
    "        else:\n",
    "            result.append(\"Open\")\n",
    "    print(result)\n",
    "        \n",
    "open_or_senior(test)"
   ]
  },
  {
   "cell_type": "code",
   "execution_count": 66,
   "id": "0a4bd8bb",
   "metadata": {},
   "outputs": [
    {
     "name": "stdout",
     "output_type": "stream",
     "text": [
      "[1]\n"
     ]
    }
   ],
   "source": [
    "def tribonacci(signature, n):\n",
    "    result2 = []\n",
    "    if n==0:\n",
    "        return result2\n",
    "    else:          \n",
    "        if n >= 1 and n<=3:\n",
    "            result2 = signature[0:n]\n",
    "        else:   \n",
    "            result2=signature\n",
    "            for i in range(n-3):\n",
    "                length = len(result2)            \n",
    "                result2.append(sum(result2[length-3:length]))\n",
    "    return result2\n",
    "\n",
    "print(tribonacci([1, 1, 1], 1))"
   ]
  },
  {
   "cell_type": "code",
   "execution_count": 82,
   "id": "637bae50",
   "metadata": {},
   "outputs": [
    {
     "data": {
      "text/plain": [
       "'EC'"
      ]
     },
     "execution_count": 82,
     "metadata": {},
     "output_type": "execute_result"
    }
   ],
   "source": [
    "MORSE_CODE = { 'A':'.-', 'B':'-...',\n",
    "                    'C':'-.-.', 'D':'-..', 'E':'.',\n",
    "                    'F':'..-.', 'G':'--.', 'H':'....',\n",
    "                    'I':'..', 'J':'.---', 'K':'-.-',\n",
    "                    'L':'.-..', 'M':'--', 'N':'-.',\n",
    "                    'O':'---', 'P':'.--.', 'Q':'--.-',\n",
    "                    'R':'.-.', 'S':'...', 'T':'-',\n",
    "                    'U':'..-', 'V':'...-', 'W':'.--',\n",
    "                    'X':'-..-', 'Y':'-.--', 'Z':'--..',\n",
    "                    '1':'.----', '2':'..---', '3':'...--',\n",
    "                    '4':'....-', '5':'.....', '6':'-....',\n",
    "                    '7':'--...', '8':'---..', '9':'----.',\n",
    "                    '0':'-----', ', ':'--..--', '.':'.-.-.-',\n",
    "                    '?':'..--..', '/':'-..-.', '-':'-....-',\n",
    "                    '(':'-.--.', ')':'-.--.-'}\n",
    "\n",
    "def decode_morse(morse_code):\n",
    "    resulta = ''    \n",
    "    words = morse_code.strip().split('   ')\n",
    "    if len(words)==0:\n",
    "        charactersa = word.split(' ')\n",
    "        if len(charactersa)==0:\n",
    "            return list(MORSE_CODE.keys())[list(MORSE_CODE.values()).index(word)]\n",
    "        else:\n",
    "            resultb1 = ''\n",
    "            for character1 in charactersa:\n",
    "                resultb1+=list(MORSE_CODE.keys())[list(MORSE_CODE.values()).index(character1)]\n",
    "            return resultb1\n",
    "    else:\n",
    "        for word in words:\n",
    "            resultb = ''\n",
    "            characters = word.split(' ')\n",
    "            for character in characters:\n",
    "                resultb+=list(MORSE_CODE.keys())[list(MORSE_CODE.values()).index(character)]\n",
    "            resulta+=resultb + ' '            \n",
    "        return resulta.rstrip()\n",
    "#MORSE_CODE[character]\n",
    "decode_morse(' . -.-.')"
   ]
  },
  {
   "cell_type": "code",
   "execution_count": 85,
   "id": "adeaff7d",
   "metadata": {},
   "outputs": [
    {
     "name": "stdout",
     "output_type": "stream",
     "text": [
      "irwinestradatorres\n"
     ]
    }
   ],
   "source": [
    "mytuple = (\"irwin\",\"estrada\",\"torres\")\n",
    "x = \"\".join(mytuple)\n",
    "print(x)"
   ]
  },
  {
   "cell_type": "code",
   "execution_count": 154,
   "id": "0913c850",
   "metadata": {},
   "outputs": [
    {
     "data": {
      "text/plain": [
       "1"
      ]
     },
     "execution_count": 154,
     "metadata": {},
     "output_type": "execute_result"
    }
   ],
   "source": [
    "import math\n",
    "def zero(f = None): return 0 if not f else f(0)\n",
    "def one(f = None): return 1 if not f else f(1)\n",
    "def two(f = None): return 2 if not f else f(2)\n",
    "def three(f = None): return 3 if not f else f(3)\n",
    "def four(f = None): return 4 if not f else f(4)\n",
    "def five(f = None): return 5 if not f else f(5)\n",
    "def six(f = None): return 6 if not f else f(6)\n",
    "def seven(f = None): return 7 if not f else f(7)\n",
    "def eight(f = None): return 8 if not f else f(8)\n",
    "def nine(f = None): return 9 if not f else f(9)\n",
    "\n",
    "def plus(y): return lambda x : x+y\n",
    "def minus(y): return lambda x : x-y\n",
    "def times(y): return lambda x : x*y\n",
    "def divided_by(y):  return lambda x : math.floor(x/y)\n",
    "\n",
    "nine(divided_by(five()))"
   ]
  },
  {
   "cell_type": "code",
   "execution_count": 175,
   "id": "01071d1f",
   "metadata": {},
   "outputs": [
    {
     "data": {
      "text/plain": [
       "'99:59:59'"
      ]
     },
     "execution_count": 175,
     "metadata": {},
     "output_type": "execute_result"
    }
   ],
   "source": [
    "import math\n",
    "def make_readable(seconds):    \n",
    "    if seconds <= 0:\n",
    "        return \"00:00:00\"\n",
    "    else:\n",
    "        horas = 0\n",
    "        minutos = math.floor(seconds/60)\n",
    "        segundos = seconds%60\n",
    "        \n",
    "        if (minutos >= 60):\n",
    "            horas = math.floor(minutos/60)\n",
    "            minutos = minutos%60\n",
    "        \n",
    "        return \"{:02d}:{:02d}:{:02d}\".format(horas,minutos,segundos)   \n",
    "    \n",
    "make_readable(359999)"
   ]
  },
  {
   "cell_type": "code",
   "execution_count": 182,
   "id": "664538a9",
   "metadata": {},
   "outputs": [
    {
     "name": "stdout",
     "output_type": "stream",
     "text": [
      "000000\n",
      "FFFFFF\n",
      "010203\n",
      "00FF7D\n"
     ]
    }
   ],
   "source": [
    "import math\n",
    "hexadecimal = [\"0\",\"1\",\"2\",\"3\",\"4\",\"5\",\"6\",\"7\",\"8\",\"9\",\"A\",\"B\",\"C\",\"D\",\"E\",\"F\"]\n",
    "\n",
    "def validNumber(n):\n",
    "    if n < 0:\n",
    "        return 0\n",
    "    elif n > 255:\n",
    "        return 255\n",
    "    else:\n",
    "        return n\n",
    "\n",
    "def firstValue(r):\n",
    "    result1 = math.floor(r/16)\n",
    "    result2 = r%16\n",
    "    \n",
    "    return \"{}{}\".format(hexadecimal[result1],hexadecimal[result2])    \n",
    "    \n",
    "def rgb(r, g, b):\n",
    "    r = validNumber(r)\n",
    "    g = validNumber(g)\n",
    "    b = validNumber(b)\n",
    "    \n",
    "    return \"{}{}{}\".format(firstValue(r),firstValue(g),firstValue(b))\n",
    "    \n",
    "print(rgb(0,0,0))\n",
    "print(rgb(255,255,255))\n",
    "print(rgb(1,2,3))\n",
    "print(rgb(-20,275,125))"
   ]
  },
  {
   "cell_type": "code",
   "execution_count": null,
   "id": "48212bab",
   "metadata": {},
   "outputs": [],
   "source": []
  }
 ],
 "metadata": {
  "kernelspec": {
   "display_name": "Python 3 (ipykernel)",
   "language": "python",
   "name": "python3"
  },
  "language_info": {
   "codemirror_mode": {
    "name": "ipython",
    "version": 3
   },
   "file_extension": ".py",
   "mimetype": "text/x-python",
   "name": "python",
   "nbconvert_exporter": "python",
   "pygments_lexer": "ipython3",
   "version": "3.9.5"
  }
 },
 "nbformat": 4,
 "nbformat_minor": 5
}
