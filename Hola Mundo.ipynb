{
 "cells": [
  {
   "cell_type": "markdown",
   "id": "19168c33",
   "metadata": {},
   "source": [
    "# Titulo\n",
    "\n",
    "## SubTitulo \n",
    "\n",
    "*Lorem*\n",
    "\n",
    "**Lorem**"
   ]
  },
  {
   "cell_type": "code",
   "execution_count": 3,
   "id": "4945670c",
   "metadata": {},
   "outputs": [
    {
     "name": "stdout",
     "output_type": "stream",
     "text": [
      "Hola Mundo\n"
     ]
    }
   ],
   "source": [
    "print('Hola Mundo')"
   ]
  },
  {
   "cell_type": "code",
   "execution_count": 2,
   "id": "99e7b5a5",
   "metadata": {},
   "outputs": [
    {
     "name": "stdout",
     "output_type": "stream",
     "text": [
      "Print es una instruccion que muestra texto por pantalla\n"
     ]
    }
   ],
   "source": [
    "print('Print es una instruccion que muestra texto por pantalla')"
   ]
  },
  {
   "cell_type": "code",
   "execution_count": null,
   "id": "1511f11d",
   "metadata": {},
   "outputs": [],
   "source": []
  }
 ],
 "metadata": {
  "kernelspec": {
   "display_name": "Python 3 (ipykernel)",
   "language": "python",
   "name": "python3"
  },
  "language_info": {
   "codemirror_mode": {
    "name": "ipython",
    "version": 3
   },
   "file_extension": ".py",
   "mimetype": "text/x-python",
   "name": "python",
   "nbconvert_exporter": "python",
   "pygments_lexer": "ipython3",
   "version": "3.9.5"
  }
 },
 "nbformat": 4,
 "nbformat_minor": 5
}
